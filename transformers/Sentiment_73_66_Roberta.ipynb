{
  "nbformat": 4,
  "nbformat_minor": 0,
  "metadata": {
    "accelerator": "GPU",
    "colab": {
      "name": "Sentiment_73.66_Roberta.ipynb",
      "provenance": [],
      "collapsed_sections": [],
      "toc_visible": true,
      "machine_shape": "hm"
    },
    "kernelspec": {
      "display_name": "Python 3",
      "language": "python",
      "name": "python3"
    },
    "language_info": {
      "codemirror_mode": {
        "name": "ipython",
        "version": 3
      },
      "file_extension": ".py",
      "mimetype": "text/x-python",
      "name": "python",
      "nbconvert_exporter": "python",
      "pygments_lexer": "ipython3",
      "version": "3.7.9"
    },
    "widgets": {
      "application/vnd.jupyter.widget-state+json": {
        "ec0e909919ca41ce95bc48d900f5d145": {
          "model_module": "@jupyter-widgets/controls",
          "model_name": "HBoxModel",
          "state": {
            "_view_name": "HBoxView",
            "_dom_classes": [],
            "_model_name": "HBoxModel",
            "_view_module": "@jupyter-widgets/controls",
            "_model_module_version": "1.5.0",
            "_view_count": null,
            "_view_module_version": "1.5.0",
            "box_style": "",
            "layout": "IPY_MODEL_8923c02617d743f795ec057816f22740",
            "_model_module": "@jupyter-widgets/controls",
            "children": [
              "IPY_MODEL_23c846061d1a4d059db363e128da14d5",
              "IPY_MODEL_bfe67e3b2f834b338415b79baafcb734"
            ]
          }
        },
        "8923c02617d743f795ec057816f22740": {
          "model_module": "@jupyter-widgets/base",
          "model_name": "LayoutModel",
          "state": {
            "_view_name": "LayoutView",
            "grid_template_rows": null,
            "right": null,
            "justify_content": null,
            "_view_module": "@jupyter-widgets/base",
            "overflow": null,
            "_model_module_version": "1.2.0",
            "_view_count": null,
            "flex_flow": null,
            "width": null,
            "min_width": null,
            "border": null,
            "align_items": null,
            "bottom": null,
            "_model_module": "@jupyter-widgets/base",
            "top": null,
            "grid_column": null,
            "overflow_y": null,
            "overflow_x": null,
            "grid_auto_flow": null,
            "grid_area": null,
            "grid_template_columns": null,
            "flex": null,
            "_model_name": "LayoutModel",
            "justify_items": null,
            "grid_row": null,
            "max_height": null,
            "align_content": null,
            "visibility": null,
            "align_self": null,
            "height": null,
            "min_height": null,
            "padding": null,
            "grid_auto_rows": null,
            "grid_gap": null,
            "max_width": null,
            "order": null,
            "_view_module_version": "1.2.0",
            "grid_template_areas": null,
            "object_position": null,
            "object_fit": null,
            "grid_auto_columns": null,
            "margin": null,
            "display": null,
            "left": null
          }
        },
        "23c846061d1a4d059db363e128da14d5": {
          "model_module": "@jupyter-widgets/controls",
          "model_name": "FloatProgressModel",
          "state": {
            "_view_name": "ProgressView",
            "style": "IPY_MODEL_2834cc5f5b73413199f26595c609d1e9",
            "_dom_classes": [],
            "description": "100%",
            "_model_name": "FloatProgressModel",
            "bar_style": "success",
            "max": 1,
            "_view_module": "@jupyter-widgets/controls",
            "_model_module_version": "1.5.0",
            "value": 1,
            "_view_count": null,
            "_view_module_version": "1.5.0",
            "orientation": "horizontal",
            "min": 0,
            "description_tooltip": null,
            "_model_module": "@jupyter-widgets/controls",
            "layout": "IPY_MODEL_f0e8a2352a3b44ff8dc19668bfb1bc68"
          }
        },
        "bfe67e3b2f834b338415b79baafcb734": {
          "model_module": "@jupyter-widgets/controls",
          "model_name": "HTMLModel",
          "state": {
            "_view_name": "HTMLView",
            "style": "IPY_MODEL_df41446661d348c2af398f154e6af424",
            "_dom_classes": [],
            "description": "",
            "_model_name": "HTMLModel",
            "placeholder": "​",
            "_view_module": "@jupyter-widgets/controls",
            "_model_module_version": "1.5.0",
            "value": " 1/1 [22:50&lt;00:00, 1370.30s/it]",
            "_view_count": null,
            "_view_module_version": "1.5.0",
            "description_tooltip": null,
            "_model_module": "@jupyter-widgets/controls",
            "layout": "IPY_MODEL_950c69c99528445a907d6117eeaae52a"
          }
        },
        "2834cc5f5b73413199f26595c609d1e9": {
          "model_module": "@jupyter-widgets/controls",
          "model_name": "ProgressStyleModel",
          "state": {
            "_view_name": "StyleView",
            "_model_name": "ProgressStyleModel",
            "description_width": "initial",
            "_view_module": "@jupyter-widgets/base",
            "_model_module_version": "1.5.0",
            "_view_count": null,
            "_view_module_version": "1.2.0",
            "bar_color": null,
            "_model_module": "@jupyter-widgets/controls"
          }
        },
        "f0e8a2352a3b44ff8dc19668bfb1bc68": {
          "model_module": "@jupyter-widgets/base",
          "model_name": "LayoutModel",
          "state": {
            "_view_name": "LayoutView",
            "grid_template_rows": null,
            "right": null,
            "justify_content": null,
            "_view_module": "@jupyter-widgets/base",
            "overflow": null,
            "_model_module_version": "1.2.0",
            "_view_count": null,
            "flex_flow": null,
            "width": null,
            "min_width": null,
            "border": null,
            "align_items": null,
            "bottom": null,
            "_model_module": "@jupyter-widgets/base",
            "top": null,
            "grid_column": null,
            "overflow_y": null,
            "overflow_x": null,
            "grid_auto_flow": null,
            "grid_area": null,
            "grid_template_columns": null,
            "flex": null,
            "_model_name": "LayoutModel",
            "justify_items": null,
            "grid_row": null,
            "max_height": null,
            "align_content": null,
            "visibility": null,
            "align_self": null,
            "height": null,
            "min_height": null,
            "padding": null,
            "grid_auto_rows": null,
            "grid_gap": null,
            "max_width": null,
            "order": null,
            "_view_module_version": "1.2.0",
            "grid_template_areas": null,
            "object_position": null,
            "object_fit": null,
            "grid_auto_columns": null,
            "margin": null,
            "display": null,
            "left": null
          }
        },
        "df41446661d348c2af398f154e6af424": {
          "model_module": "@jupyter-widgets/controls",
          "model_name": "DescriptionStyleModel",
          "state": {
            "_view_name": "StyleView",
            "_model_name": "DescriptionStyleModel",
            "description_width": "",
            "_view_module": "@jupyter-widgets/base",
            "_model_module_version": "1.5.0",
            "_view_count": null,
            "_view_module_version": "1.2.0",
            "_model_module": "@jupyter-widgets/controls"
          }
        },
        "950c69c99528445a907d6117eeaae52a": {
          "model_module": "@jupyter-widgets/base",
          "model_name": "LayoutModel",
          "state": {
            "_view_name": "LayoutView",
            "grid_template_rows": null,
            "right": null,
            "justify_content": null,
            "_view_module": "@jupyter-widgets/base",
            "overflow": null,
            "_model_module_version": "1.2.0",
            "_view_count": null,
            "flex_flow": null,
            "width": null,
            "min_width": null,
            "border": null,
            "align_items": null,
            "bottom": null,
            "_model_module": "@jupyter-widgets/base",
            "top": null,
            "grid_column": null,
            "overflow_y": null,
            "overflow_x": null,
            "grid_auto_flow": null,
            "grid_area": null,
            "grid_template_columns": null,
            "flex": null,
            "_model_name": "LayoutModel",
            "justify_items": null,
            "grid_row": null,
            "max_height": null,
            "align_content": null,
            "visibility": null,
            "align_self": null,
            "height": null,
            "min_height": null,
            "padding": null,
            "grid_auto_rows": null,
            "grid_gap": null,
            "max_width": null,
            "order": null,
            "_view_module_version": "1.2.0",
            "grid_template_areas": null,
            "object_position": null,
            "object_fit": null,
            "grid_auto_columns": null,
            "margin": null,
            "display": null,
            "left": null
          }
        },
        "e6dfc5be95ad48d6b69fa7a42c54ee36": {
          "model_module": "@jupyter-widgets/controls",
          "model_name": "HBoxModel",
          "state": {
            "_view_name": "HBoxView",
            "_dom_classes": [],
            "_model_name": "HBoxModel",
            "_view_module": "@jupyter-widgets/controls",
            "_model_module_version": "1.5.0",
            "_view_count": null,
            "_view_module_version": "1.5.0",
            "box_style": "",
            "layout": "IPY_MODEL_4cb67fc5ce0446e3993a50a8d3324496",
            "_model_module": "@jupyter-widgets/controls",
            "children": [
              "IPY_MODEL_9222a1b456e447ffa692a2780ba97805",
              "IPY_MODEL_5665cd67c9c64e619e13f9bc8a020ee4"
            ]
          }
        },
        "4cb67fc5ce0446e3993a50a8d3324496": {
          "model_module": "@jupyter-widgets/base",
          "model_name": "LayoutModel",
          "state": {
            "_view_name": "LayoutView",
            "grid_template_rows": null,
            "right": null,
            "justify_content": null,
            "_view_module": "@jupyter-widgets/base",
            "overflow": null,
            "_model_module_version": "1.2.0",
            "_view_count": null,
            "flex_flow": null,
            "width": null,
            "min_width": null,
            "border": null,
            "align_items": null,
            "bottom": null,
            "_model_module": "@jupyter-widgets/base",
            "top": null,
            "grid_column": null,
            "overflow_y": null,
            "overflow_x": null,
            "grid_auto_flow": null,
            "grid_area": null,
            "grid_template_columns": null,
            "flex": null,
            "_model_name": "LayoutModel",
            "justify_items": null,
            "grid_row": null,
            "max_height": null,
            "align_content": null,
            "visibility": null,
            "align_self": null,
            "height": null,
            "min_height": null,
            "padding": null,
            "grid_auto_rows": null,
            "grid_gap": null,
            "max_width": null,
            "order": null,
            "_view_module_version": "1.2.0",
            "grid_template_areas": null,
            "object_position": null,
            "object_fit": null,
            "grid_auto_columns": null,
            "margin": null,
            "display": null,
            "left": null
          }
        },
        "9222a1b456e447ffa692a2780ba97805": {
          "model_module": "@jupyter-widgets/controls",
          "model_name": "FloatProgressModel",
          "state": {
            "_view_name": "ProgressView",
            "style": "IPY_MODEL_ef0247ea7f6a4dcc9f5a669b43bc6012",
            "_dom_classes": [],
            "description": "Epoch: 1: 100%",
            "_model_name": "FloatProgressModel",
            "bar_style": "",
            "max": 3175,
            "_view_module": "@jupyter-widgets/controls",
            "_model_module_version": "1.5.0",
            "value": 3175,
            "_view_count": null,
            "_view_module_version": "1.5.0",
            "orientation": "horizontal",
            "min": 0,
            "description_tooltip": null,
            "_model_module": "@jupyter-widgets/controls",
            "layout": "IPY_MODEL_362b6817511f48b38f34eb9fdb7c76df"
          }
        },
        "5665cd67c9c64e619e13f9bc8a020ee4": {
          "model_module": "@jupyter-widgets/controls",
          "model_name": "HTMLModel",
          "state": {
            "_view_name": "HTMLView",
            "style": "IPY_MODEL_cf1d74a6bd2d4593b8c2f08146deb248",
            "_dom_classes": [],
            "description": "",
            "_model_name": "HTMLModel",
            "placeholder": "​",
            "_view_module": "@jupyter-widgets/controls",
            "_model_module_version": "1.5.0",
            "value": " 3175/3175 [22:50&lt;00:00,  2.81it/s, training_loss=0.046]",
            "_view_count": null,
            "_view_module_version": "1.5.0",
            "description_tooltip": null,
            "_model_module": "@jupyter-widgets/controls",
            "layout": "IPY_MODEL_6e6ce1e4b434406ab236976222c94132"
          }
        },
        "ef0247ea7f6a4dcc9f5a669b43bc6012": {
          "model_module": "@jupyter-widgets/controls",
          "model_name": "ProgressStyleModel",
          "state": {
            "_view_name": "StyleView",
            "_model_name": "ProgressStyleModel",
            "description_width": "initial",
            "_view_module": "@jupyter-widgets/base",
            "_model_module_version": "1.5.0",
            "_view_count": null,
            "_view_module_version": "1.2.0",
            "bar_color": null,
            "_model_module": "@jupyter-widgets/controls"
          }
        },
        "362b6817511f48b38f34eb9fdb7c76df": {
          "model_module": "@jupyter-widgets/base",
          "model_name": "LayoutModel",
          "state": {
            "_view_name": "LayoutView",
            "grid_template_rows": null,
            "right": null,
            "justify_content": null,
            "_view_module": "@jupyter-widgets/base",
            "overflow": null,
            "_model_module_version": "1.2.0",
            "_view_count": null,
            "flex_flow": null,
            "width": null,
            "min_width": null,
            "border": null,
            "align_items": null,
            "bottom": null,
            "_model_module": "@jupyter-widgets/base",
            "top": null,
            "grid_column": null,
            "overflow_y": null,
            "overflow_x": null,
            "grid_auto_flow": null,
            "grid_area": null,
            "grid_template_columns": null,
            "flex": null,
            "_model_name": "LayoutModel",
            "justify_items": null,
            "grid_row": null,
            "max_height": null,
            "align_content": null,
            "visibility": null,
            "align_self": null,
            "height": null,
            "min_height": null,
            "padding": null,
            "grid_auto_rows": null,
            "grid_gap": null,
            "max_width": null,
            "order": null,
            "_view_module_version": "1.2.0",
            "grid_template_areas": null,
            "object_position": null,
            "object_fit": null,
            "grid_auto_columns": null,
            "margin": null,
            "display": null,
            "left": null
          }
        },
        "cf1d74a6bd2d4593b8c2f08146deb248": {
          "model_module": "@jupyter-widgets/controls",
          "model_name": "DescriptionStyleModel",
          "state": {
            "_view_name": "StyleView",
            "_model_name": "DescriptionStyleModel",
            "description_width": "",
            "_view_module": "@jupyter-widgets/base",
            "_model_module_version": "1.5.0",
            "_view_count": null,
            "_view_module_version": "1.2.0",
            "_model_module": "@jupyter-widgets/controls"
          }
        },
        "6e6ce1e4b434406ab236976222c94132": {
          "model_module": "@jupyter-widgets/base",
          "model_name": "LayoutModel",
          "state": {
            "_view_name": "LayoutView",
            "grid_template_rows": null,
            "right": null,
            "justify_content": null,
            "_view_module": "@jupyter-widgets/base",
            "overflow": null,
            "_model_module_version": "1.2.0",
            "_view_count": null,
            "flex_flow": null,
            "width": null,
            "min_width": null,
            "border": null,
            "align_items": null,
            "bottom": null,
            "_model_module": "@jupyter-widgets/base",
            "top": null,
            "grid_column": null,
            "overflow_y": null,
            "overflow_x": null,
            "grid_auto_flow": null,
            "grid_area": null,
            "grid_template_columns": null,
            "flex": null,
            "_model_name": "LayoutModel",
            "justify_items": null,
            "grid_row": null,
            "max_height": null,
            "align_content": null,
            "visibility": null,
            "align_self": null,
            "height": null,
            "min_height": null,
            "padding": null,
            "grid_auto_rows": null,
            "grid_gap": null,
            "max_width": null,
            "order": null,
            "_view_module_version": "1.2.0",
            "grid_template_areas": null,
            "object_position": null,
            "object_fit": null,
            "grid_auto_columns": null,
            "margin": null,
            "display": null,
            "left": null
          }
        },
        "ab0f7a43bc4b4a3381ad138e92b6617f": {
          "model_module": "@jupyter-widgets/controls",
          "model_name": "HBoxModel",
          "state": {
            "_view_name": "HBoxView",
            "_dom_classes": [],
            "_model_name": "HBoxModel",
            "_view_module": "@jupyter-widgets/controls",
            "_model_module_version": "1.5.0",
            "_view_count": null,
            "_view_module_version": "1.5.0",
            "box_style": "",
            "layout": "IPY_MODEL_292411179468406893a367ff70a7f368",
            "_model_module": "@jupyter-widgets/controls",
            "children": [
              "IPY_MODEL_bbd8f1e87bfd46c298e485a4e24ee272",
              "IPY_MODEL_f76b15c7e16243b68062c0f1c3873b82"
            ]
          }
        },
        "292411179468406893a367ff70a7f368": {
          "model_module": "@jupyter-widgets/base",
          "model_name": "LayoutModel",
          "state": {
            "_view_name": "LayoutView",
            "grid_template_rows": null,
            "right": null,
            "justify_content": null,
            "_view_module": "@jupyter-widgets/base",
            "overflow": null,
            "_model_module_version": "1.2.0",
            "_view_count": null,
            "flex_flow": null,
            "width": null,
            "min_width": null,
            "border": null,
            "align_items": null,
            "bottom": null,
            "_model_module": "@jupyter-widgets/base",
            "top": null,
            "grid_column": null,
            "overflow_y": null,
            "overflow_x": null,
            "grid_auto_flow": null,
            "grid_area": null,
            "grid_template_columns": null,
            "flex": null,
            "_model_name": "LayoutModel",
            "justify_items": null,
            "grid_row": null,
            "max_height": null,
            "align_content": null,
            "visibility": null,
            "align_self": null,
            "height": null,
            "min_height": null,
            "padding": null,
            "grid_auto_rows": null,
            "grid_gap": null,
            "max_width": null,
            "order": null,
            "_view_module_version": "1.2.0",
            "grid_template_areas": null,
            "object_position": null,
            "object_fit": null,
            "grid_auto_columns": null,
            "margin": null,
            "display": null,
            "left": null
          }
        },
        "bbd8f1e87bfd46c298e485a4e24ee272": {
          "model_module": "@jupyter-widgets/controls",
          "model_name": "FloatProgressModel",
          "state": {
            "_view_name": "ProgressView",
            "style": "IPY_MODEL_dfbfdc7d472546efbd2df5e0fc5a2933",
            "_dom_classes": [],
            "description": "100%",
            "_model_name": "FloatProgressModel",
            "bar_style": "success",
            "max": 819,
            "_view_module": "@jupyter-widgets/controls",
            "_model_module_version": "1.5.0",
            "value": 819,
            "_view_count": null,
            "_view_module_version": "1.5.0",
            "orientation": "horizontal",
            "min": 0,
            "description_tooltip": null,
            "_model_module": "@jupyter-widgets/controls",
            "layout": "IPY_MODEL_6fc4827fe24d45d5b88b7acc91660876"
          }
        },
        "f76b15c7e16243b68062c0f1c3873b82": {
          "model_module": "@jupyter-widgets/controls",
          "model_name": "HTMLModel",
          "state": {
            "_view_name": "HTMLView",
            "style": "IPY_MODEL_96f79bd6704c4cd28204fbc87a1517cb",
            "_dom_classes": [],
            "description": "",
            "_model_name": "HTMLModel",
            "placeholder": "​",
            "_view_module": "@jupyter-widgets/controls",
            "_model_module_version": "1.5.0",
            "value": " 819/819 [01:56&lt;00:00,  7.03it/s]",
            "_view_count": null,
            "_view_module_version": "1.5.0",
            "description_tooltip": null,
            "_model_module": "@jupyter-widgets/controls",
            "layout": "IPY_MODEL_d18cfa5af83c415aaa70bc00e4ff13f0"
          }
        },
        "dfbfdc7d472546efbd2df5e0fc5a2933": {
          "model_module": "@jupyter-widgets/controls",
          "model_name": "ProgressStyleModel",
          "state": {
            "_view_name": "StyleView",
            "_model_name": "ProgressStyleModel",
            "description_width": "initial",
            "_view_module": "@jupyter-widgets/base",
            "_model_module_version": "1.5.0",
            "_view_count": null,
            "_view_module_version": "1.2.0",
            "bar_color": null,
            "_model_module": "@jupyter-widgets/controls"
          }
        },
        "6fc4827fe24d45d5b88b7acc91660876": {
          "model_module": "@jupyter-widgets/base",
          "model_name": "LayoutModel",
          "state": {
            "_view_name": "LayoutView",
            "grid_template_rows": null,
            "right": null,
            "justify_content": null,
            "_view_module": "@jupyter-widgets/base",
            "overflow": null,
            "_model_module_version": "1.2.0",
            "_view_count": null,
            "flex_flow": null,
            "width": null,
            "min_width": null,
            "border": null,
            "align_items": null,
            "bottom": null,
            "_model_module": "@jupyter-widgets/base",
            "top": null,
            "grid_column": null,
            "overflow_y": null,
            "overflow_x": null,
            "grid_auto_flow": null,
            "grid_area": null,
            "grid_template_columns": null,
            "flex": null,
            "_model_name": "LayoutModel",
            "justify_items": null,
            "grid_row": null,
            "max_height": null,
            "align_content": null,
            "visibility": null,
            "align_self": null,
            "height": null,
            "min_height": null,
            "padding": null,
            "grid_auto_rows": null,
            "grid_gap": null,
            "max_width": null,
            "order": null,
            "_view_module_version": "1.2.0",
            "grid_template_areas": null,
            "object_position": null,
            "object_fit": null,
            "grid_auto_columns": null,
            "margin": null,
            "display": null,
            "left": null
          }
        },
        "96f79bd6704c4cd28204fbc87a1517cb": {
          "model_module": "@jupyter-widgets/controls",
          "model_name": "DescriptionStyleModel",
          "state": {
            "_view_name": "StyleView",
            "_model_name": "DescriptionStyleModel",
            "description_width": "",
            "_view_module": "@jupyter-widgets/base",
            "_model_module_version": "1.5.0",
            "_view_count": null,
            "_view_module_version": "1.2.0",
            "_model_module": "@jupyter-widgets/controls"
          }
        },
        "d18cfa5af83c415aaa70bc00e4ff13f0": {
          "model_module": "@jupyter-widgets/base",
          "model_name": "LayoutModel",
          "state": {
            "_view_name": "LayoutView",
            "grid_template_rows": null,
            "right": null,
            "justify_content": null,
            "_view_module": "@jupyter-widgets/base",
            "overflow": null,
            "_model_module_version": "1.2.0",
            "_view_count": null,
            "flex_flow": null,
            "width": null,
            "min_width": null,
            "border": null,
            "align_items": null,
            "bottom": null,
            "_model_module": "@jupyter-widgets/base",
            "top": null,
            "grid_column": null,
            "overflow_y": null,
            "overflow_x": null,
            "grid_auto_flow": null,
            "grid_area": null,
            "grid_template_columns": null,
            "flex": null,
            "_model_name": "LayoutModel",
            "justify_items": null,
            "grid_row": null,
            "max_height": null,
            "align_content": null,
            "visibility": null,
            "align_self": null,
            "height": null,
            "min_height": null,
            "padding": null,
            "grid_auto_rows": null,
            "grid_gap": null,
            "max_width": null,
            "order": null,
            "_view_module_version": "1.2.0",
            "grid_template_areas": null,
            "object_position": null,
            "object_fit": null,
            "grid_auto_columns": null,
            "margin": null,
            "display": null,
            "left": null
          }
        }
      }
    }
  },
  "cells": [
    {
      "cell_type": "markdown",
      "metadata": {
        "id": "EJS_L52Se00B"
      },
      "source": [
        "#Installing Necessities"
      ]
    },
    {
      "cell_type": "code",
      "metadata": {
        "colab": {
          "base_uri": "https://localhost:8080/"
        },
        "id": "4EojGaw0sb_l",
        "outputId": "6ffe092d-761e-4e0f-db35-62dd7cbf4682"
      },
      "source": [
        "# run this cell, then restart the runtime before continuing\n",
        "!pip install nlp\n",
        "!pip install transformers"
      ],
      "execution_count": 1,
      "outputs": [
        {
          "output_type": "stream",
          "text": [
            "Collecting nlp\n",
            "\u001b[?25l  Downloading https://files.pythonhosted.org/packages/09/e3/bcdc59f3434b224040c1047769c47b82705feca2b89ebbc28311e3764782/nlp-0.4.0-py3-none-any.whl (1.7MB)\n",
            "\u001b[K     |████████████████████████████████| 1.7MB 9.9MB/s \n",
            "\u001b[?25hRequirement already satisfied: dill in /usr/local/lib/python3.7/dist-packages (from nlp) (0.3.3)\n",
            "Requirement already satisfied: requests>=2.19.0 in /usr/local/lib/python3.7/dist-packages (from nlp) (2.23.0)\n",
            "Requirement already satisfied: numpy in /usr/local/lib/python3.7/dist-packages (from nlp) (1.19.5)\n",
            "Requirement already satisfied: pandas in /usr/local/lib/python3.7/dist-packages (from nlp) (1.1.5)\n",
            "Requirement already satisfied: pyarrow>=0.16.0 in /usr/local/lib/python3.7/dist-packages (from nlp) (3.0.0)\n",
            "Requirement already satisfied: filelock in /usr/local/lib/python3.7/dist-packages (from nlp) (3.0.12)\n",
            "Requirement already satisfied: tqdm>=4.27 in /usr/local/lib/python3.7/dist-packages (from nlp) (4.41.1)\n",
            "Collecting xxhash\n",
            "\u001b[?25l  Downloading https://files.pythonhosted.org/packages/7d/4f/0a862cad26aa2ed7a7cd87178cbbfa824fc1383e472d63596a0d018374e7/xxhash-2.0.2-cp37-cp37m-manylinux2010_x86_64.whl (243kB)\n",
            "\u001b[K     |████████████████████████████████| 245kB 18.8MB/s \n",
            "\u001b[?25hRequirement already satisfied: chardet<4,>=3.0.2 in /usr/local/lib/python3.7/dist-packages (from requests>=2.19.0->nlp) (3.0.4)\n",
            "Requirement already satisfied: idna<3,>=2.5 in /usr/local/lib/python3.7/dist-packages (from requests>=2.19.0->nlp) (2.10)\n",
            "Requirement already satisfied: urllib3!=1.25.0,!=1.25.1,<1.26,>=1.21.1 in /usr/local/lib/python3.7/dist-packages (from requests>=2.19.0->nlp) (1.24.3)\n",
            "Requirement already satisfied: certifi>=2017.4.17 in /usr/local/lib/python3.7/dist-packages (from requests>=2.19.0->nlp) (2020.12.5)\n",
            "Requirement already satisfied: pytz>=2017.2 in /usr/local/lib/python3.7/dist-packages (from pandas->nlp) (2018.9)\n",
            "Requirement already satisfied: python-dateutil>=2.7.3 in /usr/local/lib/python3.7/dist-packages (from pandas->nlp) (2.8.1)\n",
            "Requirement already satisfied: six>=1.5 in /usr/local/lib/python3.7/dist-packages (from python-dateutil>=2.7.3->pandas->nlp) (1.15.0)\n",
            "Installing collected packages: xxhash, nlp\n",
            "Successfully installed nlp-0.4.0 xxhash-2.0.2\n",
            "Collecting transformers\n",
            "\u001b[?25l  Downloading https://files.pythonhosted.org/packages/d8/b2/57495b5309f09fa501866e225c84532d1fd89536ea62406b2181933fb418/transformers-4.5.1-py3-none-any.whl (2.1MB)\n",
            "\u001b[K     |████████████████████████████████| 2.1MB 8.0MB/s \n",
            "\u001b[?25hRequirement already satisfied: requests in /usr/local/lib/python3.7/dist-packages (from transformers) (2.23.0)\n",
            "Collecting sacremoses\n",
            "\u001b[?25l  Downloading https://files.pythonhosted.org/packages/75/ee/67241dc87f266093c533a2d4d3d69438e57d7a90abb216fa076e7d475d4a/sacremoses-0.0.45-py3-none-any.whl (895kB)\n",
            "\u001b[K     |████████████████████████████████| 901kB 38.8MB/s \n",
            "\u001b[?25hRequirement already satisfied: importlib-metadata; python_version < \"3.8\" in /usr/local/lib/python3.7/dist-packages (from transformers) (3.10.1)\n",
            "Requirement already satisfied: tqdm>=4.27 in /usr/local/lib/python3.7/dist-packages (from transformers) (4.41.1)\n",
            "Requirement already satisfied: regex!=2019.12.17 in /usr/local/lib/python3.7/dist-packages (from transformers) (2019.12.20)\n",
            "Requirement already satisfied: packaging in /usr/local/lib/python3.7/dist-packages (from transformers) (20.9)\n",
            "Requirement already satisfied: numpy>=1.17 in /usr/local/lib/python3.7/dist-packages (from transformers) (1.19.5)\n",
            "Requirement already satisfied: filelock in /usr/local/lib/python3.7/dist-packages (from transformers) (3.0.12)\n",
            "Collecting tokenizers<0.11,>=0.10.1\n",
            "\u001b[?25l  Downloading https://files.pythonhosted.org/packages/ae/04/5b870f26a858552025a62f1649c20d29d2672c02ff3c3fb4c688ca46467a/tokenizers-0.10.2-cp37-cp37m-manylinux2010_x86_64.whl (3.3MB)\n",
            "\u001b[K     |████████████████████████████████| 3.3MB 39.7MB/s \n",
            "\u001b[?25hRequirement already satisfied: idna<3,>=2.5 in /usr/local/lib/python3.7/dist-packages (from requests->transformers) (2.10)\n",
            "Requirement already satisfied: chardet<4,>=3.0.2 in /usr/local/lib/python3.7/dist-packages (from requests->transformers) (3.0.4)\n",
            "Requirement already satisfied: certifi>=2017.4.17 in /usr/local/lib/python3.7/dist-packages (from requests->transformers) (2020.12.5)\n",
            "Requirement already satisfied: urllib3!=1.25.0,!=1.25.1,<1.26,>=1.21.1 in /usr/local/lib/python3.7/dist-packages (from requests->transformers) (1.24.3)\n",
            "Requirement already satisfied: click in /usr/local/lib/python3.7/dist-packages (from sacremoses->transformers) (7.1.2)\n",
            "Requirement already satisfied: joblib in /usr/local/lib/python3.7/dist-packages (from sacremoses->transformers) (1.0.1)\n",
            "Requirement already satisfied: six in /usr/local/lib/python3.7/dist-packages (from sacremoses->transformers) (1.15.0)\n",
            "Requirement already satisfied: typing-extensions>=3.6.4; python_version < \"3.8\" in /usr/local/lib/python3.7/dist-packages (from importlib-metadata; python_version < \"3.8\"->transformers) (3.7.4.3)\n",
            "Requirement already satisfied: zipp>=0.5 in /usr/local/lib/python3.7/dist-packages (from importlib-metadata; python_version < \"3.8\"->transformers) (3.4.1)\n",
            "Requirement already satisfied: pyparsing>=2.0.2 in /usr/local/lib/python3.7/dist-packages (from packaging->transformers) (2.4.7)\n",
            "Installing collected packages: sacremoses, tokenizers, transformers\n",
            "Successfully installed sacremoses-0.0.45 tokenizers-0.10.2 transformers-4.5.1\n"
          ],
          "name": "stdout"
        }
      ]
    },
    {
      "cell_type": "code",
      "metadata": {
        "colab": {
          "base_uri": "https://localhost:8080/"
        },
        "id": "aBt_4M6wJGG5",
        "outputId": "44e60409-3e66-4dc5-dde8-5818c041626e"
      },
      "source": [
        "pip install git+https://github.com/huggingface/transformers"
      ],
      "execution_count": 2,
      "outputs": [
        {
          "output_type": "stream",
          "text": [
            "Collecting git+https://github.com/huggingface/transformers\n",
            "  Cloning https://github.com/huggingface/transformers to /tmp/pip-req-build-16f2ia93\n",
            "  Running command git clone -q https://github.com/huggingface/transformers /tmp/pip-req-build-16f2ia93\n",
            "  Installing build dependencies ... \u001b[?25l\u001b[?25hdone\n",
            "  Getting requirements to build wheel ... \u001b[?25l\u001b[?25hdone\n",
            "    Preparing wheel metadata ... \u001b[?25l\u001b[?25hdone\n",
            "Collecting huggingface-hub>=0.0.8\n",
            "  Downloading https://files.pythonhosted.org/packages/a1/88/7b1e45720ecf59c6c6737ff332f41c955963090a18e72acbcbeac6b25e86/huggingface_hub-0.0.8-py3-none-any.whl\n",
            "Requirement already satisfied: packaging in /usr/local/lib/python3.7/dist-packages (from transformers==4.6.0.dev0) (20.9)\n",
            "Requirement already satisfied: importlib-metadata; python_version < \"3.8\" in /usr/local/lib/python3.7/dist-packages (from transformers==4.6.0.dev0) (3.10.1)\n",
            "Requirement already satisfied: filelock in /usr/local/lib/python3.7/dist-packages (from transformers==4.6.0.dev0) (3.0.12)\n",
            "Requirement already satisfied: regex!=2019.12.17 in /usr/local/lib/python3.7/dist-packages (from transformers==4.6.0.dev0) (2019.12.20)\n",
            "Requirement already satisfied: tokenizers<0.11,>=0.10.1 in /usr/local/lib/python3.7/dist-packages (from transformers==4.6.0.dev0) (0.10.2)\n",
            "Requirement already satisfied: requests in /usr/local/lib/python3.7/dist-packages (from transformers==4.6.0.dev0) (2.23.0)\n",
            "Requirement already satisfied: sacremoses in /usr/local/lib/python3.7/dist-packages (from transformers==4.6.0.dev0) (0.0.45)\n",
            "Requirement already satisfied: numpy>=1.17 in /usr/local/lib/python3.7/dist-packages (from transformers==4.6.0.dev0) (1.19.5)\n",
            "Requirement already satisfied: tqdm>=4.27 in /usr/local/lib/python3.7/dist-packages (from transformers==4.6.0.dev0) (4.41.1)\n",
            "Requirement already satisfied: pyparsing>=2.0.2 in /usr/local/lib/python3.7/dist-packages (from packaging->transformers==4.6.0.dev0) (2.4.7)\n",
            "Requirement already satisfied: zipp>=0.5 in /usr/local/lib/python3.7/dist-packages (from importlib-metadata; python_version < \"3.8\"->transformers==4.6.0.dev0) (3.4.1)\n",
            "Requirement already satisfied: typing-extensions>=3.6.4; python_version < \"3.8\" in /usr/local/lib/python3.7/dist-packages (from importlib-metadata; python_version < \"3.8\"->transformers==4.6.0.dev0) (3.7.4.3)\n",
            "Requirement already satisfied: certifi>=2017.4.17 in /usr/local/lib/python3.7/dist-packages (from requests->transformers==4.6.0.dev0) (2020.12.5)\n",
            "Requirement already satisfied: idna<3,>=2.5 in /usr/local/lib/python3.7/dist-packages (from requests->transformers==4.6.0.dev0) (2.10)\n",
            "Requirement already satisfied: chardet<4,>=3.0.2 in /usr/local/lib/python3.7/dist-packages (from requests->transformers==4.6.0.dev0) (3.0.4)\n",
            "Requirement already satisfied: urllib3!=1.25.0,!=1.25.1,<1.26,>=1.21.1 in /usr/local/lib/python3.7/dist-packages (from requests->transformers==4.6.0.dev0) (1.24.3)\n",
            "Requirement already satisfied: joblib in /usr/local/lib/python3.7/dist-packages (from sacremoses->transformers==4.6.0.dev0) (1.0.1)\n",
            "Requirement already satisfied: click in /usr/local/lib/python3.7/dist-packages (from sacremoses->transformers==4.6.0.dev0) (7.1.2)\n",
            "Requirement already satisfied: six in /usr/local/lib/python3.7/dist-packages (from sacremoses->transformers==4.6.0.dev0) (1.15.0)\n",
            "Building wheels for collected packages: transformers\n",
            "  Building wheel for transformers (PEP 517) ... \u001b[?25l\u001b[?25hdone\n",
            "  Created wheel for transformers: filename=transformers-4.6.0.dev0-cp37-none-any.whl size=2112969 sha256=c6c5cbb866bf9a8b167ac2367d880a52bbe70cafaa567c21fc2323cc8e988a28\n",
            "  Stored in directory: /tmp/pip-ephem-wheel-cache-qw7ql60m/wheels/70/d3/52/b3fa4f8b8ef04167ac62e5bb2accb62ae764db2a378247490e\n",
            "Successfully built transformers\n",
            "Installing collected packages: huggingface-hub, transformers\n",
            "  Found existing installation: transformers 4.5.1\n",
            "    Uninstalling transformers-4.5.1:\n",
            "      Successfully uninstalled transformers-4.5.1\n",
            "Successfully installed huggingface-hub-0.0.8 transformers-4.6.0.dev0\n"
          ],
          "name": "stdout"
        }
      ]
    },
    {
      "cell_type": "code",
      "metadata": {
        "colab": {
          "base_uri": "https://localhost:8080/"
        },
        "id": "3-LH9-hLgyoV",
        "outputId": "b3b63e79-b777-4c95-a257-168d4ca3ece9"
      },
      "source": [
        "import tensorflow as tf\n",
        "# Get the GPU device name.\n",
        "device_name = tf.test.gpu_device_name()\n",
        "# The device name should look like the following:\n",
        "if device_name == '/device:GPU:0':\n",
        "    print('Found GPU at: {}'.format(device_name))\n",
        "else:\n",
        "    raise SystemError('GPU device not found')"
      ],
      "execution_count": 3,
      "outputs": [
        {
          "output_type": "stream",
          "text": [
            "Found GPU at: /device:GPU:0\n"
          ],
          "name": "stdout"
        }
      ]
    },
    {
      "cell_type": "code",
      "metadata": {
        "colab": {
          "base_uri": "https://localhost:8080/"
        },
        "id": "ZXxZNuNCfIdv",
        "outputId": "fe764697-c35f-4b9d-c3f6-9e8b5441a401"
      },
      "source": [
        "import numpy as np\n",
        "import pandas as pd\n",
        "import random\n",
        "import requests\n",
        "\n",
        "import nltk\n",
        "from nltk import word_tokenize\n",
        "from nltk.corpus import stopwords\n",
        "from nltk.classify import ClassifierI\n",
        "from nltk.stem import PorterStemmer\n",
        "from nltk.tokenize import word_tokenize, sent_tokenize\n",
        "from nltk.corpus import stopwords\n",
        "from nltk.stem import WordNetLemmatizer\n",
        "import seaborn as sns\n",
        "\n",
        "from tqdm.notebook import tqdm\n",
        "\n",
        "from transformers import BertForSequenceClassification, BertTokenizer\n",
        "from transformers import AdamW,get_linear_schedule_with_warmup\n",
        "\n",
        "from sklearn.metrics import recall_score\n",
        "from sklearn.metrics import f1_score \n",
        "\n",
        "import torch\n",
        "from torch.utils.data import TensorDataset\n",
        "from torch.utils.data import RandomSampler,SequentialSampler,DataLoader\n",
        "\n",
        "import warnings\n",
        "warnings.filterwarnings('ignore')\n",
        "\n",
        "nltk.download('stopwords')\n",
        "nltk.download('wordnet')\n",
        "nltk.download('punkt')"
      ],
      "execution_count": 4,
      "outputs": [
        {
          "output_type": "stream",
          "text": [
            "[nltk_data] Downloading package stopwords to /root/nltk_data...\n",
            "[nltk_data]   Unzipping corpora/stopwords.zip.\n",
            "[nltk_data] Downloading package wordnet to /root/nltk_data...\n",
            "[nltk_data]   Unzipping corpora/wordnet.zip.\n",
            "[nltk_data] Downloading package punkt to /root/nltk_data...\n",
            "[nltk_data]   Unzipping tokenizers/punkt.zip.\n"
          ],
          "name": "stdout"
        },
        {
          "output_type": "execute_result",
          "data": {
            "text/plain": [
              "True"
            ]
          },
          "metadata": {
            "tags": []
          },
          "execution_count": 4
        }
      ]
    },
    {
      "cell_type": "code",
      "metadata": {
        "id": "32-g11zIKAqg"
      },
      "source": [
        "############################ SENTIMENT ANALYSIS #################################################\n",
        "SENTIMENT_TRAIN_TEXT = 'https://raw.githubusercontent.com/cardiffnlp/tweeteval/main/datasets/sentiment/train_text.txt'\n",
        "SENTIMENT_VALIDATION_TEXT = 'https://raw.githubusercontent.com/cardiffnlp/tweeteval/main/datasets/sentiment/val_text.txt'\n",
        "SENTIMENT_TEST_TEXT = 'https://raw.githubusercontent.com/cardiffnlp/tweeteval/main/datasets/sentiment/test_text.txt'\n",
        "\n",
        "SENTIMENT_TRAIN_LABEL = 'https://raw.githubusercontent.com/cardiffnlp/tweeteval/main/datasets/sentiment/train_labels.txt'\n",
        "SENTIMENT_VALIDATION_LABEL = 'https://raw.githubusercontent.com/cardiffnlp/tweeteval/main/datasets/sentiment/val_labels.txt'\n",
        "SENTIMENT_TEST_LABEL = 'https://raw.githubusercontent.com/cardiffnlp/tweeteval/main/datasets/sentiment/test_labels.txt'\n",
        "\n",
        "############################ HATE #################################################\n",
        "HATE_TRAIN_TEXT = 'https://raw.githubusercontent.com/cardiffnlp/tweeteval/main/datasets/hate/train_text.txt'\n",
        "HATE_VALIDATION_TEXT = 'https://raw.githubusercontent.com/cardiffnlp/tweeteval/main/datasets/hate/val_text.txt'\n",
        "HATE_TEST_TEXT = 'https://raw.githubusercontent.com/cardiffnlp/tweeteval/main/datasets/hate/test_text.txt'\n",
        "\n",
        "HATE_TRAIN_LABEL = 'https://raw.githubusercontent.com/cardiffnlp/tweeteval/main/datasets/hate/train_labels.txt'\n",
        "HATE_VALIDATION_LABEL = 'https://raw.githubusercontent.com/cardiffnlp/tweeteval/main/datasets/hate/val_labels.txt'\n",
        "HATE_TEST_LABEL = 'https://raw.githubusercontent.com/cardiffnlp/tweeteval/main/datasets/hate/test_labels.txt'\n",
        "\n",
        "############################ OFFENSIVE LANGUAGE#################################################\n",
        "OFFENSE_TRAIN_TEXT = 'https://raw.githubusercontent.com/cardiffnlp/tweeteval/main/datasets/offensive/train_text.txt'\n",
        "OFFENSE_VALIDATION_TEXT = 'https://raw.githubusercontent.com/cardiffnlp/tweeteval/main/datasets/offensive/val_text.txt'\n",
        "OFFENSE_TEST_TEXT = 'https://raw.githubusercontent.com/cardiffnlp/tweeteval/main/datasets/offensive/test_text.txt'\n",
        "\n",
        "OFFENSE_TRAIN_LABEL = 'https://raw.githubusercontent.com/cardiffnlp/tweeteval/main/datasets/offensive/train_labels.txt'\n",
        "OFFENSE_VALIDATION_LABEL = 'https://raw.githubusercontent.com/cardiffnlp/tweeteval/main/datasets/offensive/val_labels.txt'\n",
        "OFFENSE_TEST_LABEL = 'https://raw.githubusercontent.com/cardiffnlp/tweeteval/main/datasets/offensive/test_labels.txt'\n",
        "\n",
        "############################ IRONY#################################################\n",
        "IRONY_TRAIN_TEXT = 'https://raw.githubusercontent.com/cardiffnlp/tweeteval/main/datasets/irony/train_text.txt'\n",
        "IRONY_VALIDATION_TEXT = 'https://raw.githubusercontent.com/cardiffnlp/tweeteval/main/datasets/irony/val_text.txt'\n",
        "IRONY_TEST_TEXT = 'https://raw.githubusercontent.com/cardiffnlp/tweeteval/main/datasets/irony/test_text.txt'\n",
        "\n",
        "IRONY_TRAIN_LABEL = 'https://raw.githubusercontent.com/cardiffnlp/tweeteval/main/datasets/irony/train_labels.txt'\n",
        "IRONY_VALIDATION_LABEL = 'https://raw.githubusercontent.com/cardiffnlp/tweeteval/main/datasets/irony/val_labels.txt'\n",
        "IRONY_TEST_LABEL = 'https://raw.githubusercontent.com/cardiffnlp/tweeteval/main/datasets/irony/test_labels.txt'\n",
        "\n",
        "############################ EMOTION#################################################\n",
        "EMOTION_TRAIN_TEXT = 'https://raw.githubusercontent.com/cardiffnlp/tweeteval/main/datasets/emotion/train_text.txt'\n",
        "EMOTION_VALIDATION_TEXT = 'https://raw.githubusercontent.com/cardiffnlp/tweeteval/main/datasets/emotion/val_text.txt'\n",
        "EMOTION_TEST_TEXT = 'https://raw.githubusercontent.com/cardiffnlp/tweeteval/main/datasets/emotion/test_text.txt'\n",
        "\n",
        "EMOTION_TRAIN_LABEL = 'https://raw.githubusercontent.com/cardiffnlp/tweeteval/main/datasets/emotion/train_labels.txt'\n",
        "EMOTION_VALIDATION_LABEL = 'https://raw.githubusercontent.com/cardiffnlp/tweeteval/main/datasets/emotion/val_labels.txt'\n",
        "EMOTION_TEST_LABEL = 'https://raw.githubusercontent.com/cardiffnlp/tweeteval/main/datasets/emotion/test_labels.txt'"
      ],
      "execution_count": 5,
      "outputs": []
    },
    {
      "cell_type": "code",
      "metadata": {
        "id": "utjMLdmqsUuA"
      },
      "source": [
        "def preprocess(df): \n",
        "    lemmatizer  = WordNetLemmatizer()\n",
        "    ps = PorterStemmer()\n",
        "    ignore_words = ['user', 'st'] \n",
        "    df['processed_tweets'] = df['tweet'].replace('[^a-zA-Z]',' ', regex=True,\n",
        "                                                  inplace=False)\n",
        "    df['processed_tweets'] = df['processed_tweets'].apply(lambda x: [w.lower() for w in x.split()])\n",
        "    # df['processed_tweets'] = df['processed_tweets'].apply(lambda tweet: ([word for word in tweet if not word in stopwords.words(\"english\")]))\n",
        "    # df['processed_tweets'] = df['processed_tweets'].apply(lambda tweet: ([lemmatizer.lemmatize(word) for word in tweet]))\n",
        "    # df['processed_tweets'] = df['processed_tweets'].apply(lambda tweet: ([ps.stem(word) for word in tweet]))\n",
        "\n",
        "    df['processed_tweets'] = df['processed_tweets'].apply(lambda tweet: ' '.join([word for word in tweet if len(word)>2]))\n",
        "\n",
        "    df['processed_tweets'] = df['processed_tweets'].apply(lambda x: ' '.join([word for word in x.split() if not word in ignore_words]))\n",
        "    \n",
        "    df[\"sentence_length\"] = df.tweet.apply(lambda x: len(str(x).split()))\n",
        "    return df\n",
        "\n",
        "\n",
        "# Wrapper to convert text data to pandas Dataframe\n",
        "def txt_to_df(data, label, classification_task):\n",
        "    tweet = []\n",
        "    sentiments = []\n",
        "    for sentence in data.split('\\n'):\n",
        "        tweet.append(sentence)\n",
        "    for sentiment in label.split('\\n'):\n",
        "        try:\n",
        "            sentiments.append(int(sentiment))\n",
        "        except ValueError:\n",
        "            pass\n",
        "    df= pd.DataFrame(tweet[:-1], columns=['tweet'])\n",
        "    df['label'] = sentiments\n",
        "    if classification_task == 'Sentiment_analysis':\n",
        "      df['sentiment'] = df.label.apply(lambda x: 'Negative'if x==0 else ('Neutral' if x==1 else 'Positive'))\n",
        "    if classification_task == 'hate_analysis':\n",
        "      df['sentiment'] = df.label.apply(lambda x: 'Not-hate'if x==0 else 'hate')\n",
        "    if classification_task == 'offensive_analysis':\n",
        "      df['sentiment'] = df.label.apply(lambda x: 'Not-offensive 'if x==0 else 'offensive')\n",
        "    if classification_task == 'irony':\n",
        "        df['sentiment'] = df.label.apply(lambda x: 'Not-irony 'if x==0 else 'irony')\n",
        "    if classification_task == 'emotion':\n",
        "        df['sentiment'] = df.label.apply(lambda x: 'Anger'if x==0 else ('Joy' if x==1 else ('Optimism' if x==2 else 'Sadness')))      \n",
        "    return df\n",
        "\n",
        "\n",
        "def prepare_dataset(TRAIN_TEXT, TRAIN_LABEL, VAL_TEXT, VAL_LABEL, TEST_TEXT, TEST_LABEL, classification_task):\n",
        "  # Reading Train, Vvalidation & Test data from tweeteval Github Repo.\n",
        "  train_tweets_txt = requests.get(TRAIN_TEXT).text\n",
        "  train_labels_txt = requests.get(TRAIN_LABEL).text\n",
        "\n",
        "  val_tweets_txt = requests.get(VAL_TEXT).text\n",
        "  val_labels_txt = requests.get(VAL_LABEL).text\n",
        "\n",
        "  test_tweets_txt = requests.get(TEST_TEXT).text\n",
        "  test_labels_txt = requests.get(TEST_LABEL).text\n",
        "\n",
        "  # Converting text data to pandas Dataframe\n",
        "  train_df = txt_to_df(train_tweets_txt, train_labels_txt, classification_task)\n",
        "  val_df = txt_to_df(val_tweets_txt, val_labels_txt, classification_task)\n",
        "  test_df = txt_to_df(test_tweets_txt, test_labels_txt, classification_task)\n",
        "\n",
        "  train_df = preprocess(train_df)\n",
        "  val_df = preprocess(val_df)\n",
        "  test_df = preprocess(test_df)  \n",
        "\n",
        "  return train_df, val_df, test_df\n",
        "\n"
      ],
      "execution_count": 6,
      "outputs": []
    },
    {
      "cell_type": "code",
      "metadata": {
        "id": "nq1i8QiBtY0e"
      },
      "source": [
        "# model = BertForSequenceClassification.from_pretrained('bert-base-uncased')\n",
        "# tokenizer = BertTokenizerFast.from_pretrained('bert-base-uncased')"
      ],
      "execution_count": 7,
      "outputs": []
    },
    {
      "cell_type": "code",
      "metadata": {
        "id": "Wbt5xh4o4xeS"
      },
      "source": [
        "from transformers import RobertaTokenizer, RobertaForSequenceClassification"
      ],
      "execution_count": 8,
      "outputs": []
    },
    {
      "cell_type": "code",
      "metadata": {
        "id": "RAh5QlfnKAu4"
      },
      "source": [
        "def initialize_bert(num_of_class):\n",
        "  model = RobertaForSequenceClassification.from_pretrained('roberta-base',\n",
        "                                      num_labels = num_of_class,\n",
        "                                      output_attentions = False,\n",
        "                                      output_hidden_states =  True)\n",
        "\n",
        "  tokenizer = RobertaTokenizer.from_pretrained('roberta-base')\n",
        "  return model, tokenizer"
      ],
      "execution_count": 9,
      "outputs": []
    },
    {
      "cell_type": "code",
      "metadata": {
        "id": "ZZXyswjMLakL"
      },
      "source": [
        "# model = RobertaForSequenceClassification.from_pretrained('roberta-base',\n",
        "#                                     num_labels = 2,\n",
        "#                                     output_attentions = False,\n",
        "#                                     output_hidden_states =  True)\n",
        "\n",
        "# tokenizer = RobertaTokenizer.from_pretrained('roberta-base')"
      ],
      "execution_count": 10,
      "outputs": []
    },
    {
      "cell_type": "code",
      "metadata": {
        "id": "qFTIxqHILWqW"
      },
      "source": [
        "#  for i,param in enumerate(model.roberta.embeddings.parameters()):\n",
        "#     param.requires_grad = False\n",
        "# #     print(i)\n",
        "\n",
        "#   # if freeze_layer_count == -1, we only freeze the embedding layer\n",
        "#   # otherwise we freeze the first `freeze_layer_count` encoder layers\n",
        "# for layer in model.roberta.encoder.layer[:-1]:\n",
        "#     for param in layer.parameters():\n",
        "#         param.requires_grad = False"
      ],
      "execution_count": 11,
      "outputs": []
    },
    {
      "cell_type": "code",
      "metadata": {
        "id": "CGJ37XLeM5X0"
      },
      "source": [
        "# def get_random_seed():\n",
        "#     return int.from_bytes(os.urandom(4), \"big\")\n",
        "\n",
        "# def train(\n",
        "#     output_dir: str,\n",
        "#     dataset_name: str,\n",
        "#     train_size: Optional[int] = None,\n",
        "#     freeze_layer_count: int = 0,\n",
        "# ):\n",
        "#     # get_split_path returns the path of a npy file containing sample indexes\n",
        "#     # to include in the training set\n",
        "#     split_path = get_split_path(dataset_name, train_size) if train_size is not None else None\n",
        "#     args_dict = {\n",
        "#         \"evaluation_strategy\": \"steps\",\n",
        "#         \"per_device_train_batch_size\": 16,\n",
        "#         \"per_device_eval_batch_size\": 16,\n",
        "#         \"learning_rate\": 5e-5,\n",
        "#         \"num_train_epochs\": 10,\n",
        "#         \"logging_first_step\": True,\n",
        "#         \"save_total_limit\": 1,\n",
        "#         \"fp16\": True,\n",
        "#         \"dataloader_num_workers\": 1,\n",
        "#         \"load_best_model_at_end\": True,\n",
        "#         \"metric_for_best_model\": \"accuracy\",\n",
        "#         # we need to generate a random seed manually, as otherwise \n",
        "#         # the same constant random seed is used during training for each run\n",
        "#         \"seed\": get_random_seed(),\n",
        "#     }\n",
        "#     model = AutoModelForSequenceClassification.from_pretrained(\"roberta-base\", return_dict=True)\n",
        "\n",
        "#     if def get_random_seed():\n",
        "#     return int.from_bytes(os.urandom(4), \"big\")\n",
        "\n",
        "# def train(\n",
        "#     output_dir: str,\n",
        "#     dataset_name: str,\n",
        "#     train_size: Optional[int] = None,\n",
        "#     freeze_layer_count: int = 0,\n",
        "# ):\n",
        "#     # get_split_path returns the path of a npy file containing sample indexes\n",
        "#     # to include in the training set\n",
        "#     split_path = get_split_path(dataset_name, train_size) if train_size is not None else None\n",
        "#     args_dict = {\n",
        "#         \"evaluation_strategy\": \"steps\",\n",
        "#         \"per_device_train_batch_size\": 16,\n",
        "#         \"per_device_eval_batch_size\": 16,\n",
        "#         \"learning_rate\": 5e-5,\n",
        "#         \"num_train_epochs\": 10,\n",
        "#         \"logging_first_step\": True,\n",
        "#         \"save_total_limit\": 1,\n",
        "#         \"fp16\": True,\n",
        "#         \"dataloader_num_workers\": 1,\n",
        "#         \"load_best_model_at_end\": True,\n",
        "#         \"metric_for_best_model\": \"accuracy\",\n",
        "#         # we need to generate a random seed manually, as otherwise \n",
        "#         # the same constant random seed is used during training for each run\n",
        "#         \"seed\": get_random_seed(),\n",
        "#     }\n",
        "#     model = AutoModelForSequenceClassification.from_pretrained(\"roberta-base\", return_dict=True)\n",
        "\n",
        "#     if freeze_layer_count:\n",
        "# \t      # We freeze here the embeddings of the model\n",
        "#         for param in model.roberta.embeddings.parameters():\n",
        "#             param.requires_grad = False\n",
        "\n",
        "#         if freeze_layer_count != -1:\n",
        "# \t          # if freeze_layer_count == -1, we only freeze the embedding layer\n",
        "# \t          # otherwise we freeze the first `freeze_layer_count` encoder layers\n",
        "#             for layer in model.roberta.encoder.layer[:freeze_layer_count]:\n",
        "#                 for param in layer.parameters():\n",
        "#                     param.requires_grad = False\n",
        "\n",
        "#     tokenizer = AutoTokenizer.from_pretrained(\"roberta-base\")\n",
        "#     train_ds = get_dataset(tokenizer, dataset_name, split=\"train\", split_path=split_path)\n",
        "#     val_ds = get_dataset(tokenizer, dataset_name, split=\"validation\")\n",
        "\n",
        "#     epoch_steps = len(train_ds) / args_dict[\"per_device_train_batch_size\"]\n",
        "#     args_dict[\"warmup_steps\"] = math.ceil(epoch_steps)  # 1 epoch\n",
        "#     args_dict[\"logging_steps\"] = max(1, math.ceil(epoch_steps * 0.5))  # 0.5 epoch\n",
        "#     args_dict[\"save_steps\"] = args_dict[\"logging_steps\"]\n",
        "\n",
        "#     training_args = TrainingArguments(output_dir=str(output_dir), **args_dict)\n",
        "#     trainer = Trainer(\n",
        "#         model=model,\n",
        "#         args=training_args,\n",
        "#         train_dataset=train_ds,\n",
        "#         eval_dataset=val_ds,\n",
        "#         compute_metrics=compute_metrics,\n",
        "#         tokenizer=tokenizer,\n",
        "#     )\n",
        "#     trainer.train()\n",
        "# :\n",
        "# \t      # We freeze here the embeddings of the model\n",
        "#         for param in model.roberta.embeddings.parameters():\n",
        "#             param.requires_grad = False\n",
        "\n",
        "#         if freeze_layer_count != -1:\n",
        "# \t          # if freeze_layer_count == -1, we only freeze the embedding layer\n",
        "# \t          # otherwise we freeze the first `freeze_layer_count` encoder layers\n",
        "#             for layer in model.roberta.encoder.layer[:freeze_layer_count]:\n",
        "#                 for param in layer.parameters():\n",
        "#                     param.requires_grad = False\n",
        "\n",
        "#     tokenizer = AutoTokenizer.from_pretrained(\"roberta-base\")\n",
        "#     train_ds = get_dataset(tokenizer, dataset_name, split=\"train\", split_path=split_path)\n",
        "#     val_ds = get_dataset(tokenizer, dataset_name, split=\"validation\")\n",
        "\n",
        "#     epoch_steps = len(train_ds) / args_dict[\"per_device_train_batch_size\"]\n",
        "#     args_dict[\"warmup_steps\"] = math.ceil(epoch_steps)  # 1 epoch\n",
        "#     args_dict[\"logging_steps\"] = max(1, math.ceil(epoch_steps * 0.5))  # 0.5 epoch\n",
        "#     args_dict[\"save_steps\"] = args_dict[\"logging_steps\"]\n",
        "\n",
        "#     training_args = TrainingArguments(output_dir=str(output_dir), **args_dict)\n",
        "#     trainer = Trainer(\n",
        "#         model=model,\n",
        "#         args=training_args,\n",
        "#         train_dataset=train_ds,\n",
        "#         eval_dataset=val_ds,\n",
        "#         compute_metrics=compute_metrics,\n",
        "#         tokenizer=tokenizer,\n",
        "#     )\n",
        "#     trainer.train()\n"
      ],
      "execution_count": 12,
      "outputs": []
    },
    {
      "cell_type": "code",
      "metadata": {
        "id": "hZTLeMGZKAyO"
      },
      "source": [
        "def encode_data(tokenizer, df, max_sequence_length=256):\n",
        "  encoder = tokenizer.batch_encode_plus(df.tweet.values,\n",
        "                                            add_special_tokens = True,\n",
        "                                            pad_to_max_length = True,\n",
        "                                            #  max_length = 256,\n",
        "                                            max_length = max_sequence_length,\n",
        "                                            truncation=True,\n",
        "                                            return_tensors = 'pt')\n",
        "\n",
        "\n",
        "  return encoder\n",
        "\n",
        "def extract_inputId_attentionMask(df, encoder):\n",
        "  input_ids = encoder['input_ids']\n",
        "  attention_masks = encoder[\"attention_mask\"]\n",
        "  labels = torch.tensor(df.label.values)\n",
        "  return input_ids, attention_masks, labels"
      ],
      "execution_count": 13,
      "outputs": []
    },
    {
      "cell_type": "code",
      "metadata": {
        "id": "YwtP6PEakOhL"
      },
      "source": [
        "def get_tesnsor_dataset(input_ids, attention_masks, labels):\n",
        "  return TensorDataset(input_ids, attention_masks, labels)\n"
      ],
      "execution_count": 14,
      "outputs": []
    },
    {
      "cell_type": "code",
      "metadata": {
        "id": "wdPST8kcnlz0"
      },
      "source": [
        "def dataloader_object(data, batch_size=16):\n",
        "  dataloader = DataLoader(\n",
        "    data,\n",
        "    sampler= RandomSampler(data),\n",
        "    batch_size = batch_size)\n",
        "  return dataloader"
      ],
      "execution_count": 15,
      "outputs": []
    },
    {
      "cell_type": "code",
      "metadata": {
        "id": "sRZFc4nV-h7B"
      },
      "source": [
        "  # model = RobertaForSequenceClassification.from_pretrained('roberta-base',\n",
        "  #                                     num_labels = 3,\n",
        "  #                                     output_attentions = False,\n",
        "  #                                     output_hidden_states =  False)"
      ],
      "execution_count": 16,
      "outputs": []
    },
    {
      "cell_type": "markdown",
      "metadata": {
        "id": "1oIJk5mlRe7n"
      },
      "source": [
        "#Freeze\n"
      ]
    },
    {
      "cell_type": "code",
      "metadata": {
        "id": "lrNuno0PpDlb"
      },
      "source": [
        "def freeze_bert_layers(model, freeze_layers):\n",
        "    # We freeze here the embeddings of the model\n",
        "  # for param in model.roberta.embeddings.parameters():\n",
        "  #     param.requires_grad = False\n",
        "  for layer in model.roberta.encoder.layer[:freeze_layers]:\n",
        "    for param in layer.parameters():\n",
        "        param.requires_grad = False"
      ],
      "execution_count": 17,
      "outputs": []
    },
    {
      "cell_type": "markdown",
      "metadata": {
        "id": "TQJS1D9jBqg_"
      },
      "source": [
        "   self, input_ids, attention_mask=None, token_type_ids=None,\n",
        "            position_ids=None, head_mask=None, labels=None):"
      ]
    },
    {
      "cell_type": "code",
      "metadata": {
        "id": "BN5tZWYBjgQQ"
      },
      "source": [
        "# Get all of the model's parameters as a list of tuples.\n",
        "\n",
        "def print_model_params(model):\n",
        "  params = list(model.named_parameters())\n",
        "  print('The BERT model has {:} different named parameters.\\n'.format(len(params)))\n",
        "  print('==== Embedding Layer ====\\n')\n",
        "  for p in params[0:5]:\n",
        "      print(\"{:<55} {:>12}\".format(p[0], str(tuple(p[1].size()))))\n",
        "  print('\\n==== First Transformer ====\\n')\n",
        "  for p in params[5:21]:\n",
        "      print(\"{:<55} {:>12}\".format(p[0], str(tuple(p[1].size()))))\n",
        "  print('\\n==== Output Layer ====\\n')\n",
        "  for p in params[-4:]:\n",
        "      print(\"{:<55} {:>12}\".format(p[0], str(tuple(p[1].size()))))"
      ],
      "execution_count": 18,
      "outputs": []
    },
    {
      "cell_type": "code",
      "metadata": {
        "id": "mfjkRczVKBCt"
      },
      "source": [
        "# For the purposes of fine-tuning, the authors recommend choosing from the following values:\n",
        "# Batch size: 16, 32 (We chose 32 when creating our DataLoaders).\n",
        "# Learning rate (Adam): 5e-5, 3e-5, 2e-5 (We’ll use 2e-5).\n",
        "# Number of epochs: 2, 3, 4 (We’ll use 4).\n",
        "\n",
        "def initialize_optimizer(model, dataloader, lr=1e-5, epochs=2):\n",
        "  optimizer = AdamW(model.parameters(),lr,eps = 1e-8)\n",
        "\n",
        "  scheduler = get_linear_schedule_with_warmup(\n",
        "              optimizer,\n",
        "      num_warmup_steps = 0,\n",
        "    num_training_steps = len(dataloader)*epochs \n",
        "  )\n",
        "  return optimizer, scheduler"
      ],
      "execution_count": 19,
      "outputs": []
    },
    {
      "cell_type": "code",
      "metadata": {
        "id": "dwS3tPvfKBGH"
      },
      "source": [
        "def f1_score_func(predictions,y_labelled):\n",
        "    preds_flatten = np.argmax(predictions,axis=1).flatten()\n",
        "    labels_flatten = y_labelled.flatten()\n",
        "    return f1_score(labels_flatten,preds_flatten,average = 'macro')"
      ],
      "execution_count": 20,
      "outputs": []
    },
    {
      "cell_type": "code",
      "metadata": {
        "id": "wuxapDjIS9Ne"
      },
      "source": [
        "def recall_score_func(predictions,y_labelled):\n",
        "    preds_flatten = np.argmax(predictions,axis=1).flatten()\n",
        "    labels_flatten = y_labelled.flatten()\n",
        "    return recall_score(labels_flatten,preds_flatten,average = 'macro')"
      ],
      "execution_count": 21,
      "outputs": []
    },
    {
      "cell_type": "code",
      "metadata": {
        "id": "Yh7k8RIrKBQS"
      },
      "source": [
        "def load_model_to_device(model):\n",
        "  device = torch.device('cuda' if torch.cuda.is_available() else 'cpu')\n",
        "  model.to(device)\n",
        "  print(f\"Loading:{device}\")\n",
        "  return device"
      ],
      "execution_count": 22,
      "outputs": []
    },
    {
      "cell_type": "code",
      "metadata": {
        "id": "Mqc7Vw9BKBTf"
      },
      "source": [
        "def evaluate(model, device, dataloader_val):\n",
        "    model.eval()\n",
        "    \n",
        "    loss_val_total = 0\n",
        "    predictions,true_vals = [],[]\n",
        "    \n",
        "    for batch in tqdm(dataloader_val):\n",
        "        batch = tuple(b.to(device) for b in batch)\n",
        "        \n",
        "        inputs = {'input_ids':  batch[0],\n",
        "                  'attention_mask':batch[1],\n",
        "                  'labels': batch[2]\n",
        "                 }\n",
        "        with torch.no_grad():\n",
        "            outputs = model(**inputs)\n",
        "            \n",
        "        loss = outputs[0]\n",
        "        logits = outputs[1]\n",
        "        loss_val_total +=loss.item()\n",
        "        \n",
        "        logits = logits.detach().cpu().numpy()\n",
        "        label_ids = inputs['labels'].cpu().numpy()\n",
        "        predictions.append(logits)\n",
        "        true_vals.append(label_ids)\n",
        "        \n",
        "        \n",
        "    loss_val_avg = loss_val_total/len(dataloader_val)  \n",
        "    \n",
        "    predictions = np.concatenate(predictions,axis=0)\n",
        "    true_vals = np.concatenate(true_vals,axis=0) \n",
        "    return loss_val_avg,predictions,true_vals"
      ],
      "execution_count": 23,
      "outputs": []
    },
    {
      "cell_type": "code",
      "metadata": {
        "id": "LO_4hnOIOpWL"
      },
      "source": [
        "def init_training(model, optimizer, scheduler, epochs, device, dataloader_train, dataloader_val): \n",
        "  for epoch in tqdm(range(1,epochs+1)):\n",
        "      model.train()\n",
        "      \n",
        "      loss_train_total=0\n",
        "      \n",
        "      progress_bar = tqdm(dataloader_train,desc = \"Epoch: {:1d}\".format(epoch),leave = False,disable = False)\n",
        "      \n",
        "      \n",
        "      for batch in progress_bar:\n",
        "          model.zero_grad()\n",
        "          \n",
        "          batch = tuple(b.to(device) for b in batch)\n",
        "          \n",
        "          inputs = {\n",
        "              \"input_ids\":batch[0],\n",
        "              \"attention_mask\":batch[1],\n",
        "              \"labels\":batch[2]\n",
        "              \n",
        "          }\n",
        "          outputs = model(**inputs)\n",
        "          # outputs = model(batch[0], batch[1])\n",
        "\n",
        "\n",
        "          # batch = [r.to(device) for r in batch]\n",
        " \n",
        "          # input_ids, attention_mask, labels = batch\n",
        "\n",
        "          # # clear previously calculated gradients \n",
        "          # model.zero_grad()        \n",
        "\n",
        "          # # get model predictions for the current batch\n",
        "          # preds = model([input_ids, attention_mask])\n",
        "\n",
        "          # # compute the loss between actual and predicted values\n",
        "          # loss = cross_entropy(preds, labels)\n",
        "\n",
        "          # # add on to the total loss\n",
        "          # loss_train_total = loss_train_total + loss.item()\n",
        "          \n",
        "          loss = outputs[0]\n",
        "          loss_train_total +=loss.item()\n",
        "          loss.backward()\n",
        "          \n",
        "          torch.nn.utils.clip_grad_norm(model.parameters(),1.0)\n",
        "          \n",
        "          optimizer.step()\n",
        "          scheduler.step()\n",
        "          \n",
        "          \n",
        "          progress_bar.set_postfix({'training_loss':'{:.3f}'.format(loss.item()/len(batch))})\n",
        "      \n",
        "      tqdm.write('\\nEpoch {epoch}')\n",
        "      \n",
        "      loss_train_avg = loss_train_total/len(dataloader_train)\n",
        "      tqdm.write(f'Training Loss: {loss_train_avg}')\n",
        "      # val_loss,predictions,true_vals = evaluate(model,device, dataloader_val)\n",
        "\n",
        "      # if classification_task == 'SENTIMENT_ANALYSIS':\n",
        "      #   test_score = recall_score_func(predictions,true_vals)\n",
        "      # else:\n",
        "      #   test_score = f1_score_func(predictions,true_vals)\n",
        "      \n",
        "\n",
        "      # tqdm.write(f'Val Loss:{val_loss}\\n Test Score:{test_score}')\n",
        "      "
      ],
      "execution_count": 24,
      "outputs": []
    },
    {
      "cell_type": "code",
      "metadata": {
        "id": "_DcQG38qnHJh"
      },
      "source": [
        "import time\n",
        "# def train(model, train_dataloader, val_dataloader=None, epochs=4, evaluation=False):\n",
        "# loss_fn = nn.CrossEntropyLoss\n",
        "def init_training_new(model, optimizer, scheduler, epochs, device, train_dataloader, val_dataloader): \n",
        "\n",
        "    print(\"Start training...\\n\")\n",
        "    for epoch_i in range(epochs):\n",
        "        # =======================================\n",
        "        #               Training\n",
        "        # =======================================\n",
        "        # Print the header of the result table\n",
        "        print(f\"{'Epoch':^7} | {'Batch':^7} | {'Train Loss':^12} | {'Val Loss':^10} | {'Val Acc':^9} | {'Elapsed':^9}\")\n",
        "        print(\"-\"*70)\n",
        "\n",
        "        # Measure the elapsed time of each epoch\n",
        "        t0_epoch, t0_batch = time.time(), time.time()\n",
        "\n",
        "        # Reset tracking variables at the beginning of each epoch\n",
        "        total_loss, batch_loss, batch_counts = 0, 0, 0\n",
        "\n",
        "        # Put the model into the training mode\n",
        "        model.train()\n",
        "\n",
        "        # For each batch of training data...\n",
        "        for step, batch in enumerate(train_dataloader):\n",
        "            batch_counts +=1\n",
        "            # Load batch to GPU\n",
        "            b_input_ids, b_attn_mask, b_labels = tuple(t.to(device) for t in batch)\n",
        "\n",
        "            # Zero out any previously calculated gradients\n",
        "            model.zero_grad()\n",
        "\n",
        "            # Perform a forward pass. This will return logits.\n",
        "            logits = model(b_input_ids, b_attn_mask)\n",
        "\n",
        "            # Compute loss and accumulate the loss values\n",
        "            print(type(logits))\n",
        "            print(type(b_labels))\n",
        "            print(logits)\n",
        "            print(b_labels)\n",
        "            loss = nn.CrossEntropyLoss(logits, b_labels)\n",
        "            batch_loss += loss.item()\n",
        "            total_loss += loss.item()\n",
        "\n",
        "            # Perform a backward pass to calculate gradients\n",
        "            loss.backward()\n",
        "\n",
        "            # Clip the norm of the gradients to 1.0 to prevent \"exploding gradients\"\n",
        "            torch.nn.utils.clip_grad_norm_(model.parameters(), 1.0)\n",
        "\n",
        "            # Update parameters and the learning rate\n",
        "            optimizer.step()\n",
        "            scheduler.step()\n",
        "\n",
        "            # Print the loss values and time elapsed for every 20 batches\n",
        "            if (step % 20 == 0 and step != 0) or (step == len(train_dataloader) - 1):\n",
        "                # Calculate time elapsed for 20 batches\n",
        "                time_elapsed = time.time() - t0_batch\n",
        "\n",
        "                # Print training results\n",
        "                print(f\"{epoch_i + 1:^7} | {step:^7} | {batch_loss / batch_counts:^12.6f} | {'-':^10} | {'-':^9} | {time_elapsed:^9.2f}\")\n",
        "\n",
        "                # Reset batch tracking variables\n",
        "                batch_loss, batch_counts = 0, 0\n",
        "                t0_batch = time.time()\n",
        "\n",
        "        # Calculate the average loss over the entire training data\n",
        "        avg_train_loss = total_loss / len(train_dataloader)\n",
        "\n",
        "        print(\"-\"*70)\n",
        "        # =======================================\n",
        "        #               Evaluation\n",
        "        # =======================================\n",
        "        if evaluation == True:\n",
        "            # After the completion of each training epoch, measure the model's performance\n",
        "            # on our validation set.\n",
        "            val_loss, val_accuracy = evaluate(model, val_dataloader)\n",
        "\n",
        "            # Print performance over the entire training data\n",
        "            time_elapsed = time.time() - t0_epoch\n",
        "            \n",
        "            print(f\"{epoch_i + 1:^7} | {'-':^7} | {avg_train_loss:^12.6f} | {val_loss:^10.6f} | {val_accuracy:^9.2f} | {time_elapsed:^9.2f}\")\n",
        "            print(\"-\"*70)\n",
        "        print(\"\\n\")\n",
        "    \n",
        "    print(\"Training complete!\")"
      ],
      "execution_count": 25,
      "outputs": []
    },
    {
      "cell_type": "code",
      "metadata": {
        "id": "Q17sYfbmOpfD"
      },
      "source": [
        "def evaluate_wrapper(model, device, dataloader_test):\n",
        "  val_loss,predictions,true_vals = evaluate(model,device, dataloader_test)\n",
        "\n",
        "  if classification_task == 'SENTIMENT_ANALYSIS':\n",
        "    test_score = recall_score_func(predictions,true_vals)\n",
        "  else:\n",
        "    test_score = f1_score_func(predictions,true_vals)  \n",
        "\n",
        "  tqdm.write(f'Val Loss:{val_loss}\\n Test Score:{test_score}')"
      ],
      "execution_count": 26,
      "outputs": []
    },
    {
      "cell_type": "code",
      "metadata": {
        "id": "xGYy-c76KA1T"
      },
      "source": [
        "def fineTune_bert(batch_size, lr, epochs, max_length, freeze_layers):\n",
        "\n",
        "  num_of_class= len(train_df.sentiment.unique())\n",
        "\n",
        "  seed_val = 17\n",
        "  random.seed(seed_val)\n",
        "  np.random.seed(seed_val)\n",
        "  torch.manual_seed(seed_val)\n",
        "  torch.cuda.manual_seed_all(seed_val)\n",
        "\n",
        "\n",
        "  model, tokenizer = initialize_bert(num_of_class)\n",
        "\n",
        "  encoder_train = encode_data(tokenizer, train_df, max_length)\n",
        "  encoder_eval = encode_data(tokenizer, val_df, max_length)\n",
        "  encoder_test = encode_data(tokenizer, test_df, max_length)\n",
        "\n",
        "  input_ids_train, attention_masks_train, labels_train = extract_inputId_attentionMask(train_df, encoder_train)\n",
        "  input_ids_eval, attention_masks_eval, labels_eval = extract_inputId_attentionMask(val_df, encoder_eval)\n",
        "  input_ids_test, attention_masks_test, labels_test = extract_inputId_attentionMask(test_df, encoder_test)\n",
        "\n",
        "  data_train = get_tesnsor_dataset(input_ids_train,attention_masks_train,labels_train)\n",
        "  data_eval = get_tesnsor_dataset(input_ids_eval,attention_masks_eval,labels_eval)\n",
        "  data_test = get_tesnsor_dataset(input_ids_test,attention_masks_test,labels_test)\n",
        "\n",
        "  dataloader_train = dataloader_object(data_train, batch_size) \n",
        "  dataloader_eval = dataloader_object(data_eval, batch_size) \n",
        "  dataloader_test = dataloader_object(data_test, batch_size)\n",
        "\n",
        "  freeze_bert_layers(model, freeze_layers)\n",
        "  # print_model_params(model)\n",
        "  # model = BERT_Arch(model)\n",
        "  print_model_params(model)\n",
        "  optimizer, scheduler = initialize_optimizer(model,dataloader_train, lr, epochs)\n",
        "  device = load_model_to_device(model)\n",
        "\n",
        "  init_training(model,optimizer,  scheduler, epochs, device, dataloader_train, dataloader_eval)\n",
        "  evaluate_wrapper(model, device, dataloader_test)"
      ],
      "execution_count": 27,
      "outputs": []
    },
    {
      "cell_type": "markdown",
      "metadata": {
        "id": "4QkRqHB4xA_V"
      },
      "source": [
        "For the purposes of fine-tuning, the authors recommend choosing from the following values:\n",
        "Batch size: 16, 32 (We chose 16 when creating our DataLoaders)\n",
        "  \n",
        "\n",
        "For the purposes of fine-tuning, the authors recommend choosing from the following values:\n",
        "Batch size: 16, 32 (We chose 32 when creating our DataLoaders).\n",
        "Learning rate (Adam): 5e-5, 3e-5, 2e-5 (We’ll use 1e-5).\n",
        "Number of epochs: 2, 3, 4 (We’ll use 4)."
      ]
    },
    {
      "cell_type": "markdown",
      "metadata": {
        "id": "G4PIELT1RnzM"
      },
      "source": [
        "#Train"
      ]
    },
    {
      "cell_type": "code",
      "metadata": {
        "colab": {
          "base_uri": "https://localhost:8080/",
          "height": 1000,
          "referenced_widgets": [
            "ec0e909919ca41ce95bc48d900f5d145",
            "8923c02617d743f795ec057816f22740",
            "23c846061d1a4d059db363e128da14d5",
            "bfe67e3b2f834b338415b79baafcb734",
            "2834cc5f5b73413199f26595c609d1e9",
            "f0e8a2352a3b44ff8dc19668bfb1bc68",
            "df41446661d348c2af398f154e6af424",
            "950c69c99528445a907d6117eeaae52a",
            "e6dfc5be95ad48d6b69fa7a42c54ee36",
            "4cb67fc5ce0446e3993a50a8d3324496",
            "9222a1b456e447ffa692a2780ba97805",
            "5665cd67c9c64e619e13f9bc8a020ee4",
            "ef0247ea7f6a4dcc9f5a669b43bc6012",
            "362b6817511f48b38f34eb9fdb7c76df",
            "cf1d74a6bd2d4593b8c2f08146deb248",
            "6e6ce1e4b434406ab236976222c94132",
            "ab0f7a43bc4b4a3381ad138e92b6617f",
            "292411179468406893a367ff70a7f368",
            "bbd8f1e87bfd46c298e485a4e24ee272",
            "f76b15c7e16243b68062c0f1c3873b82",
            "dfbfdc7d472546efbd2df5e0fc5a2933",
            "6fc4827fe24d45d5b88b7acc91660876",
            "96f79bd6704c4cd28204fbc87a1517cb",
            "d18cfa5af83c415aaa70bc00e4ff13f0"
          ]
        },
        "id": "LE3hl_IQf-Li",
        "outputId": "563b8d53-5c82-4750-e244-471280a313cc"
      },
      "source": [
        "import torch\n",
        "\n",
        "classification_task_dict = {'SENTIMENT_ANALYSIS' : 'Sentiment_analysis',\n",
        "                      'HATE_ANALYSIS' : 'hate_analysis',\n",
        "                      'OFFENSIVE_LANGUAGE' : 'offensive_analysis',\n",
        "                      'IRONY' : 'irony',\n",
        "                      'EMOTION' : 'emotion'\n",
        "                      }\n",
        "class_dict = {'SENTIMENT_ANALYSIS' :['Negative', 'Neutral', 'Positive'],\n",
        "              'HATE_ANALYSIS' : ['Not-hate', 'hate'],\n",
        "              'OFFENSIVE_LANGUAGE' : ['Not-offensive', 'offensive'],\n",
        "              'IRONY' : ['non-irony', 'irony'],\n",
        "              'EMOTION' : ['anger', 'joy', 'optimism', 'sadness']}\n",
        "\n",
        "config = {'batch_size' : 15,\n",
        "          'lr' : 1e-5,\n",
        "          'epochs' : 1,\n",
        "          'max_length' : 275\n",
        "        }\n",
        "\n",
        "#         score 71.28 --- 70.02\n",
        "# batch size train-16, val 32, test -32\n",
        "# lr = 1e-5\n",
        "# 1 Epoch\n",
        "# max_length = 256\n",
        "\n",
        "for classification_task, task in classification_task_dict.items():\n",
        "  torch.cuda.empty_cache()\n",
        "  print('=========================================')\n",
        "  print('CLASSIFICATION TASK: {}'.format(classification_task))\n",
        "  print('=========================================')\n",
        "  if classification_task == 'SENTIMENT_ANALYSIS':\n",
        "    # continue\n",
        "    train_df, val_df, test_df = prepare_dataset(SENTIMENT_TRAIN_TEXT, SENTIMENT_TRAIN_LABEL,\n",
        "                        SENTIMENT_VALIDATION_TEXT, SENTIMENT_VALIDATION_LABEL,\n",
        "                        SENTIMENT_TEST_TEXT, SENTIMENT_TEST_LABEL, classification_task_dict['SENTIMENT_ANALYSIS']\n",
        "                        )\n",
        "\n",
        "  if classification_task == 'HATE_ANALYSIS':\n",
        "    continue\n",
        "    train_df, val_df, test_df = prepare_dataset(HATE_TRAIN_TEXT, HATE_TRAIN_LABEL,\n",
        "                        HATE_VALIDATION_TEXT, HATE_VALIDATION_LABEL,\n",
        "                        HATE_TEST_TEXT, HATE_TEST_LABEL, classification_task_dict['HATE_ANALYSIS']\n",
        "                        )\n",
        "    \n",
        "  if classification_task == 'OFFENSIVE_LANGUAGE':\n",
        "    continue\n",
        "    train_df, val_df, test_df = prepare_dataset(OFFENSE_TRAIN_TEXT, OFFENSE_TRAIN_LABEL,\n",
        "                        OFFENSE_VALIDATION_TEXT, OFFENSE_VALIDATION_LABEL,\n",
        "                        OFFENSE_TEST_TEXT, OFFENSE_TEST_LABEL, classification_task_dict['OFFENSIVE_LANGUAGE']\n",
        "                        )\n",
        "    \n",
        "  if classification_task == 'IRONY':\n",
        "    continue\n",
        "    train_df, val_df, test_df = prepare_dataset(IRONY_TRAIN_TEXT, IRONY_TRAIN_LABEL,\n",
        "                        IRONY_VALIDATION_TEXT, IRONY_VALIDATION_LABEL,\n",
        "                        IRONY_TEST_TEXT, IRONY_TEST_LABEL, classification_task_dict['IRONY']\n",
        "                        )\n",
        "  if classification_task == 'EMOTION':\n",
        "    continue\n",
        "    train_df, val_df, test_df = prepare_dataset(EMOTION_TRAIN_TEXT, EMOTION_TRAIN_LABEL,\n",
        "                        EMOTION_VALIDATION_TEXT, EMOTION_VALIDATION_LABEL,\n",
        "                        EMOTION_TEST_TEXT, EMOTION_TEST_LABEL, classification_task_dict['EMOTION']\n",
        "                        )    \n",
        "  frames = [train_df, val_df]    \n",
        "  train_df = pd.concat(frames)\n",
        "  train_df.reset_index(inplace=True)\n",
        "\n",
        "  # for freeze_layers in range(1,12):\n",
        "  fineTune_bert(config['batch_size'], config['lr'], config['epochs'], config['max_length'], freeze_layers=1)\n"
      ],
      "execution_count": 30,
      "outputs": [
        {
          "output_type": "stream",
          "text": [
            "=========================================\n",
            "CLASSIFICATION TASK: SENTIMENT_ANALYSIS\n",
            "=========================================\n"
          ],
          "name": "stdout"
        },
        {
          "output_type": "stream",
          "text": [
            "Some weights of the model checkpoint at roberta-base were not used when initializing RobertaForSequenceClassification: ['lm_head.bias', 'lm_head.dense.weight', 'lm_head.dense.bias', 'lm_head.layer_norm.weight', 'lm_head.layer_norm.bias', 'lm_head.decoder.weight', 'roberta.pooler.dense.weight', 'roberta.pooler.dense.bias']\n",
            "- This IS expected if you are initializing RobertaForSequenceClassification from the checkpoint of a model trained on another task or with another architecture (e.g. initializing a BertForSequenceClassification model from a BertForPreTraining model).\n",
            "- This IS NOT expected if you are initializing RobertaForSequenceClassification from the checkpoint of a model that you expect to be exactly identical (initializing a BertForSequenceClassification model from a BertForSequenceClassification model).\n",
            "Some weights of RobertaForSequenceClassification were not initialized from the model checkpoint at roberta-base and are newly initialized: ['classifier.dense.weight', 'classifier.dense.bias', 'classifier.out_proj.weight', 'classifier.out_proj.bias']\n",
            "You should probably TRAIN this model on a down-stream task to be able to use it for predictions and inference.\n"
          ],
          "name": "stderr"
        },
        {
          "output_type": "stream",
          "text": [
            "The BERT model has 201 different named parameters.\n",
            "\n",
            "==== Embedding Layer ====\n",
            "\n",
            "roberta.embeddings.word_embeddings.weight               (50265, 768)\n",
            "roberta.embeddings.position_embeddings.weight             (514, 768)\n",
            "roberta.embeddings.token_type_embeddings.weight             (1, 768)\n",
            "roberta.embeddings.LayerNorm.weight                           (768,)\n",
            "roberta.embeddings.LayerNorm.bias                             (768,)\n",
            "\n",
            "==== First Transformer ====\n",
            "\n",
            "roberta.encoder.layer.0.attention.self.query.weight       (768, 768)\n",
            "roberta.encoder.layer.0.attention.self.query.bias             (768,)\n",
            "roberta.encoder.layer.0.attention.self.key.weight         (768, 768)\n",
            "roberta.encoder.layer.0.attention.self.key.bias               (768,)\n",
            "roberta.encoder.layer.0.attention.self.value.weight       (768, 768)\n",
            "roberta.encoder.layer.0.attention.self.value.bias             (768,)\n",
            "roberta.encoder.layer.0.attention.output.dense.weight     (768, 768)\n",
            "roberta.encoder.layer.0.attention.output.dense.bias           (768,)\n",
            "roberta.encoder.layer.0.attention.output.LayerNorm.weight       (768,)\n",
            "roberta.encoder.layer.0.attention.output.LayerNorm.bias       (768,)\n",
            "roberta.encoder.layer.0.intermediate.dense.weight        (3072, 768)\n",
            "roberta.encoder.layer.0.intermediate.dense.bias              (3072,)\n",
            "roberta.encoder.layer.0.output.dense.weight              (768, 3072)\n",
            "roberta.encoder.layer.0.output.dense.bias                     (768,)\n",
            "roberta.encoder.layer.0.output.LayerNorm.weight               (768,)\n",
            "roberta.encoder.layer.0.output.LayerNorm.bias                 (768,)\n",
            "\n",
            "==== Output Layer ====\n",
            "\n",
            "classifier.dense.weight                                   (768, 768)\n",
            "classifier.dense.bias                                         (768,)\n",
            "classifier.out_proj.weight                                  (3, 768)\n",
            "classifier.out_proj.bias                                        (3,)\n",
            "Loading:cuda\n"
          ],
          "name": "stdout"
        },
        {
          "output_type": "display_data",
          "data": {
            "application/vnd.jupyter.widget-view+json": {
              "model_id": "ec0e909919ca41ce95bc48d900f5d145",
              "version_minor": 0,
              "version_major": 2
            },
            "text/plain": [
              "HBox(children=(FloatProgress(value=0.0, max=1.0), HTML(value='')))"
            ]
          },
          "metadata": {
            "tags": []
          }
        },
        {
          "output_type": "display_data",
          "data": {
            "application/vnd.jupyter.widget-view+json": {
              "model_id": "e6dfc5be95ad48d6b69fa7a42c54ee36",
              "version_minor": 0,
              "version_major": 2
            },
            "text/plain": [
              "HBox(children=(FloatProgress(value=0.0, description='Epoch: 1', max=3175.0, style=ProgressStyle(description_wi…"
            ]
          },
          "metadata": {
            "tags": []
          }
        },
        {
          "output_type": "stream",
          "text": [
            "\r\n",
            "Epoch {epoch}\n",
            "\rTraining Loss: 0.6421166600110962\n",
            "\n"
          ],
          "name": "stdout"
        },
        {
          "output_type": "display_data",
          "data": {
            "application/vnd.jupyter.widget-view+json": {
              "model_id": "ab0f7a43bc4b4a3381ad138e92b6617f",
              "version_minor": 0,
              "version_major": 2
            },
            "text/plain": [
              "HBox(children=(FloatProgress(value=0.0, max=819.0), HTML(value='')))"
            ]
          },
          "metadata": {
            "tags": []
          }
        },
        {
          "output_type": "stream",
          "text": [
            "\n",
            "Val Loss:0.6305257364361568\n",
            " Test Score:0.736617996337741\n",
            "=========================================\n",
            "CLASSIFICATION TASK: HATE_ANALYSIS\n",
            "=========================================\n",
            "=========================================\n",
            "CLASSIFICATION TASK: OFFENSIVE_LANGUAGE\n",
            "=========================================\n",
            "=========================================\n",
            "CLASSIFICATION TASK: IRONY\n",
            "=========================================\n",
            "=========================================\n",
            "CLASSIFICATION TASK: EMOTION\n",
            "=========================================\n"
          ],
          "name": "stdout"
        }
      ]
    },
    {
      "cell_type": "code",
      "metadata": {
        "id": "79tKcSl1D8Dh"
      },
      "source": [
        "# # Import the needed model(Bert, Roberta or DistilBert) with output_hidden_states=True\n",
        "# transformer_model = TFBertForSequenceClassification.from_pretrained('bert-large-cased', output_hidden_states=True)\n",
        "\n",
        "# input_ids = tf.keras.Input(shape=(128, ),dtype='int32')\n",
        "# attention_mask = tf.keras.Input(shape=(128, ), dtype='int32')\n",
        "\n",
        "# transformer = transformer_model([input_ids, attention_mask])    \n",
        "# hidden_states = transformer[1] # get output_hidden_states\n",
        "\n",
        "# hidden_states_size = 4 # count of the last states \n",
        "# hiddes_states_ind = list(range(-hidden_states_size, 0, 1))\n",
        "\n",
        "# selected_hiddes_states = tf.keras.layers.concatenate(tuple([hidden_states[i] for i in hiddes_states_ind]))\n",
        "\n",
        "# # Now we can use selected_hiddes_states as we want\n",
        "# output = tf.keras.layers.Dense(128, activation='relu')(selected_hiddes_states)\n",
        "# output = tf.keras.layers.Dense(1, activation='sigmoid')(output)\n",
        "# model = tf.keras.models.Model(inputs = [input_ids, attention_mask], outputs = output)\n",
        "# model.compile(tf.keras.optimizers.Adam(lr=1e-4), loss='binary_crossentropy', metrics=['accuracy'])"
      ],
      "execution_count": 29,
      "outputs": []
    },
    {
      "cell_type": "code",
      "metadata": {
        "id": "FlwlrazM_BNW"
      },
      "source": [
        ""
      ],
      "execution_count": 29,
      "outputs": []
    },
    {
      "cell_type": "code",
      "metadata": {
        "id": "uz7WQV2Tue8U"
      },
      "source": [
        ""
      ],
      "execution_count": 29,
      "outputs": []
    }
  ]
}