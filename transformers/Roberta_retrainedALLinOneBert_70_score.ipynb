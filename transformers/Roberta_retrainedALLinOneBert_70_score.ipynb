{
  "nbformat": 4,
  "nbformat_minor": 0,
  "metadata": {
    "colab": {
      "name": "Roberta_retrainedALLinOneBert_70_score.ipynb",
      "provenance": [],
      "collapsed_sections": [],
      "include_colab_link": true
    },
    "kernelspec": {
      "display_name": "Python 3",
      "language": "python",
      "name": "python3"
    },
    "language_info": {
      "codemirror_mode": {
        "name": "ipython",
        "version": 3
      },
      "file_extension": ".py",
      "mimetype": "text/x-python",
      "name": "python",
      "nbconvert_exporter": "python",
      "pygments_lexer": "ipython3",
      "version": "3.7.9"
    },
    "widgets": {
      "application/vnd.jupyter.widget-state+json": {
        "eca645d7fa794133a335a0262fa4094a": {
          "model_module": "@jupyter-widgets/controls",
          "model_name": "HBoxModel",
          "state": {
            "_view_name": "HBoxView",
            "_dom_classes": [],
            "_model_name": "HBoxModel",
            "_view_module": "@jupyter-widgets/controls",
            "_model_module_version": "1.5.0",
            "_view_count": null,
            "_view_module_version": "1.5.0",
            "box_style": "",
            "layout": "IPY_MODEL_a1257c722b154b7faffe965899abffb5",
            "_model_module": "@jupyter-widgets/controls",
            "children": [
              "IPY_MODEL_ccda86aaec0d4873adceef8b86290afa",
              "IPY_MODEL_8a617166735f404dafd907ca12afa0ad"
            ]
          }
        },
        "a1257c722b154b7faffe965899abffb5": {
          "model_module": "@jupyter-widgets/base",
          "model_name": "LayoutModel",
          "state": {
            "_view_name": "LayoutView",
            "grid_template_rows": null,
            "right": null,
            "justify_content": null,
            "_view_module": "@jupyter-widgets/base",
            "overflow": null,
            "_model_module_version": "1.2.0",
            "_view_count": null,
            "flex_flow": null,
            "width": null,
            "min_width": null,
            "border": null,
            "align_items": null,
            "bottom": null,
            "_model_module": "@jupyter-widgets/base",
            "top": null,
            "grid_column": null,
            "overflow_y": null,
            "overflow_x": null,
            "grid_auto_flow": null,
            "grid_area": null,
            "grid_template_columns": null,
            "flex": null,
            "_model_name": "LayoutModel",
            "justify_items": null,
            "grid_row": null,
            "max_height": null,
            "align_content": null,
            "visibility": null,
            "align_self": null,
            "height": null,
            "min_height": null,
            "padding": null,
            "grid_auto_rows": null,
            "grid_gap": null,
            "max_width": null,
            "order": null,
            "_view_module_version": "1.2.0",
            "grid_template_areas": null,
            "object_position": null,
            "object_fit": null,
            "grid_auto_columns": null,
            "margin": null,
            "display": null,
            "left": null
          }
        },
        "ccda86aaec0d4873adceef8b86290afa": {
          "model_module": "@jupyter-widgets/controls",
          "model_name": "FloatProgressModel",
          "state": {
            "_view_name": "ProgressView",
            "style": "IPY_MODEL_1b5e956bfc8f45cba3370c3d9707e7fe",
            "_dom_classes": [],
            "description": "100%",
            "_model_name": "FloatProgressModel",
            "bar_style": "success",
            "max": 1,
            "_view_module": "@jupyter-widgets/controls",
            "_model_module_version": "1.5.0",
            "value": 1,
            "_view_count": null,
            "_view_module_version": "1.5.0",
            "orientation": "horizontal",
            "min": 0,
            "description_tooltip": null,
            "_model_module": "@jupyter-widgets/controls",
            "layout": "IPY_MODEL_256d8ec1eeb94376a8fc59638169899f"
          }
        },
        "8a617166735f404dafd907ca12afa0ad": {
          "model_module": "@jupyter-widgets/controls",
          "model_name": "HTMLModel",
          "state": {
            "_view_name": "HTMLView",
            "style": "IPY_MODEL_463ef593888e41c2ba417045f537c474",
            "_dom_classes": [],
            "description": "",
            "_model_name": "HTMLModel",
            "placeholder": "​",
            "_view_module": "@jupyter-widgets/controls",
            "_model_module_version": "1.5.0",
            "value": " 1/1 [09:56&lt;00:00, 596.09s/it]",
            "_view_count": null,
            "_view_module_version": "1.5.0",
            "description_tooltip": null,
            "_model_module": "@jupyter-widgets/controls",
            "layout": "IPY_MODEL_088ebdfd643c48239710c2c34b946921"
          }
        },
        "1b5e956bfc8f45cba3370c3d9707e7fe": {
          "model_module": "@jupyter-widgets/controls",
          "model_name": "ProgressStyleModel",
          "state": {
            "_view_name": "StyleView",
            "_model_name": "ProgressStyleModel",
            "description_width": "initial",
            "_view_module": "@jupyter-widgets/base",
            "_model_module_version": "1.5.0",
            "_view_count": null,
            "_view_module_version": "1.2.0",
            "bar_color": null,
            "_model_module": "@jupyter-widgets/controls"
          }
        },
        "256d8ec1eeb94376a8fc59638169899f": {
          "model_module": "@jupyter-widgets/base",
          "model_name": "LayoutModel",
          "state": {
            "_view_name": "LayoutView",
            "grid_template_rows": null,
            "right": null,
            "justify_content": null,
            "_view_module": "@jupyter-widgets/base",
            "overflow": null,
            "_model_module_version": "1.2.0",
            "_view_count": null,
            "flex_flow": null,
            "width": null,
            "min_width": null,
            "border": null,
            "align_items": null,
            "bottom": null,
            "_model_module": "@jupyter-widgets/base",
            "top": null,
            "grid_column": null,
            "overflow_y": null,
            "overflow_x": null,
            "grid_auto_flow": null,
            "grid_area": null,
            "grid_template_columns": null,
            "flex": null,
            "_model_name": "LayoutModel",
            "justify_items": null,
            "grid_row": null,
            "max_height": null,
            "align_content": null,
            "visibility": null,
            "align_self": null,
            "height": null,
            "min_height": null,
            "padding": null,
            "grid_auto_rows": null,
            "grid_gap": null,
            "max_width": null,
            "order": null,
            "_view_module_version": "1.2.0",
            "grid_template_areas": null,
            "object_position": null,
            "object_fit": null,
            "grid_auto_columns": null,
            "margin": null,
            "display": null,
            "left": null
          }
        },
        "463ef593888e41c2ba417045f537c474": {
          "model_module": "@jupyter-widgets/controls",
          "model_name": "DescriptionStyleModel",
          "state": {
            "_view_name": "StyleView",
            "_model_name": "DescriptionStyleModel",
            "description_width": "",
            "_view_module": "@jupyter-widgets/base",
            "_model_module_version": "1.5.0",
            "_view_count": null,
            "_view_module_version": "1.2.0",
            "_model_module": "@jupyter-widgets/controls"
          }
        },
        "088ebdfd643c48239710c2c34b946921": {
          "model_module": "@jupyter-widgets/base",
          "model_name": "LayoutModel",
          "state": {
            "_view_name": "LayoutView",
            "grid_template_rows": null,
            "right": null,
            "justify_content": null,
            "_view_module": "@jupyter-widgets/base",
            "overflow": null,
            "_model_module_version": "1.2.0",
            "_view_count": null,
            "flex_flow": null,
            "width": null,
            "min_width": null,
            "border": null,
            "align_items": null,
            "bottom": null,
            "_model_module": "@jupyter-widgets/base",
            "top": null,
            "grid_column": null,
            "overflow_y": null,
            "overflow_x": null,
            "grid_auto_flow": null,
            "grid_area": null,
            "grid_template_columns": null,
            "flex": null,
            "_model_name": "LayoutModel",
            "justify_items": null,
            "grid_row": null,
            "max_height": null,
            "align_content": null,
            "visibility": null,
            "align_self": null,
            "height": null,
            "min_height": null,
            "padding": null,
            "grid_auto_rows": null,
            "grid_gap": null,
            "max_width": null,
            "order": null,
            "_view_module_version": "1.2.0",
            "grid_template_areas": null,
            "object_position": null,
            "object_fit": null,
            "grid_auto_columns": null,
            "margin": null,
            "display": null,
            "left": null
          }
        },
        "db8e2a605b31468691c50bedc4c1b48c": {
          "model_module": "@jupyter-widgets/controls",
          "model_name": "HBoxModel",
          "state": {
            "_view_name": "HBoxView",
            "_dom_classes": [],
            "_model_name": "HBoxModel",
            "_view_module": "@jupyter-widgets/controls",
            "_model_module_version": "1.5.0",
            "_view_count": null,
            "_view_module_version": "1.5.0",
            "box_style": "",
            "layout": "IPY_MODEL_18d4e753d81549e89c6545eac50623ca",
            "_model_module": "@jupyter-widgets/controls",
            "children": [
              "IPY_MODEL_9ea8379e1d404e27af0aff4e253377b2",
              "IPY_MODEL_aa9dc9e4823a4afc932eddc67ac3e57d"
            ]
          }
        },
        "18d4e753d81549e89c6545eac50623ca": {
          "model_module": "@jupyter-widgets/base",
          "model_name": "LayoutModel",
          "state": {
            "_view_name": "LayoutView",
            "grid_template_rows": null,
            "right": null,
            "justify_content": null,
            "_view_module": "@jupyter-widgets/base",
            "overflow": null,
            "_model_module_version": "1.2.0",
            "_view_count": null,
            "flex_flow": null,
            "width": null,
            "min_width": null,
            "border": null,
            "align_items": null,
            "bottom": null,
            "_model_module": "@jupyter-widgets/base",
            "top": null,
            "grid_column": null,
            "overflow_y": null,
            "overflow_x": null,
            "grid_auto_flow": null,
            "grid_area": null,
            "grid_template_columns": null,
            "flex": null,
            "_model_name": "LayoutModel",
            "justify_items": null,
            "grid_row": null,
            "max_height": null,
            "align_content": null,
            "visibility": null,
            "align_self": null,
            "height": null,
            "min_height": null,
            "padding": null,
            "grid_auto_rows": null,
            "grid_gap": null,
            "max_width": null,
            "order": null,
            "_view_module_version": "1.2.0",
            "grid_template_areas": null,
            "object_position": null,
            "object_fit": null,
            "grid_auto_columns": null,
            "margin": null,
            "display": null,
            "left": null
          }
        },
        "9ea8379e1d404e27af0aff4e253377b2": {
          "model_module": "@jupyter-widgets/controls",
          "model_name": "FloatProgressModel",
          "state": {
            "_view_name": "ProgressView",
            "style": "IPY_MODEL_95dea67c1904476dae30a42bbfd50dbf",
            "_dom_classes": [],
            "description": "Epoch: 1: 100%",
            "_model_name": "FloatProgressModel",
            "bar_style": "",
            "max": 795,
            "_view_module": "@jupyter-widgets/controls",
            "_model_module_version": "1.5.0",
            "value": 795,
            "_view_count": null,
            "_view_module_version": "1.5.0",
            "orientation": "horizontal",
            "min": 0,
            "description_tooltip": null,
            "_model_module": "@jupyter-widgets/controls",
            "layout": "IPY_MODEL_06e47c62a67247028a86a7ac703271a8"
          }
        },
        "aa9dc9e4823a4afc932eddc67ac3e57d": {
          "model_module": "@jupyter-widgets/controls",
          "model_name": "HTMLModel",
          "state": {
            "_view_name": "HTMLView",
            "style": "IPY_MODEL_e22eea0910d248809a4cce72fbc85bfe",
            "_dom_classes": [],
            "description": "",
            "_model_name": "HTMLModel",
            "placeholder": "​",
            "_view_module": "@jupyter-widgets/controls",
            "_model_module_version": "1.5.0",
            "value": " 795/795 [09:34&lt;00:00,  1.65it/s, training_loss=0.126]",
            "_view_count": null,
            "_view_module_version": "1.5.0",
            "description_tooltip": null,
            "_model_module": "@jupyter-widgets/controls",
            "layout": "IPY_MODEL_f6d41e04cfea4037901d9dcad83e41b7"
          }
        },
        "95dea67c1904476dae30a42bbfd50dbf": {
          "model_module": "@jupyter-widgets/controls",
          "model_name": "ProgressStyleModel",
          "state": {
            "_view_name": "StyleView",
            "_model_name": "ProgressStyleModel",
            "description_width": "initial",
            "_view_module": "@jupyter-widgets/base",
            "_model_module_version": "1.5.0",
            "_view_count": null,
            "_view_module_version": "1.2.0",
            "bar_color": null,
            "_model_module": "@jupyter-widgets/controls"
          }
        },
        "06e47c62a67247028a86a7ac703271a8": {
          "model_module": "@jupyter-widgets/base",
          "model_name": "LayoutModel",
          "state": {
            "_view_name": "LayoutView",
            "grid_template_rows": null,
            "right": null,
            "justify_content": null,
            "_view_module": "@jupyter-widgets/base",
            "overflow": null,
            "_model_module_version": "1.2.0",
            "_view_count": null,
            "flex_flow": null,
            "width": null,
            "min_width": null,
            "border": null,
            "align_items": null,
            "bottom": null,
            "_model_module": "@jupyter-widgets/base",
            "top": null,
            "grid_column": null,
            "overflow_y": null,
            "overflow_x": null,
            "grid_auto_flow": null,
            "grid_area": null,
            "grid_template_columns": null,
            "flex": null,
            "_model_name": "LayoutModel",
            "justify_items": null,
            "grid_row": null,
            "max_height": null,
            "align_content": null,
            "visibility": null,
            "align_self": null,
            "height": null,
            "min_height": null,
            "padding": null,
            "grid_auto_rows": null,
            "grid_gap": null,
            "max_width": null,
            "order": null,
            "_view_module_version": "1.2.0",
            "grid_template_areas": null,
            "object_position": null,
            "object_fit": null,
            "grid_auto_columns": null,
            "margin": null,
            "display": null,
            "left": null
          }
        },
        "e22eea0910d248809a4cce72fbc85bfe": {
          "model_module": "@jupyter-widgets/controls",
          "model_name": "DescriptionStyleModel",
          "state": {
            "_view_name": "StyleView",
            "_model_name": "DescriptionStyleModel",
            "description_width": "",
            "_view_module": "@jupyter-widgets/base",
            "_model_module_version": "1.5.0",
            "_view_count": null,
            "_view_module_version": "1.2.0",
            "_model_module": "@jupyter-widgets/controls"
          }
        },
        "f6d41e04cfea4037901d9dcad83e41b7": {
          "model_module": "@jupyter-widgets/base",
          "model_name": "LayoutModel",
          "state": {
            "_view_name": "LayoutView",
            "grid_template_rows": null,
            "right": null,
            "justify_content": null,
            "_view_module": "@jupyter-widgets/base",
            "overflow": null,
            "_model_module_version": "1.2.0",
            "_view_count": null,
            "flex_flow": null,
            "width": null,
            "min_width": null,
            "border": null,
            "align_items": null,
            "bottom": null,
            "_model_module": "@jupyter-widgets/base",
            "top": null,
            "grid_column": null,
            "overflow_y": null,
            "overflow_x": null,
            "grid_auto_flow": null,
            "grid_area": null,
            "grid_template_columns": null,
            "flex": null,
            "_model_name": "LayoutModel",
            "justify_items": null,
            "grid_row": null,
            "max_height": null,
            "align_content": null,
            "visibility": null,
            "align_self": null,
            "height": null,
            "min_height": null,
            "padding": null,
            "grid_auto_rows": null,
            "grid_gap": null,
            "max_width": null,
            "order": null,
            "_view_module_version": "1.2.0",
            "grid_template_areas": null,
            "object_position": null,
            "object_fit": null,
            "grid_auto_columns": null,
            "margin": null,
            "display": null,
            "left": null
          }
        },
        "8eafa3067b12423488a98f7c9670339f": {
          "model_module": "@jupyter-widgets/controls",
          "model_name": "HBoxModel",
          "state": {
            "_view_name": "HBoxView",
            "_dom_classes": [],
            "_model_name": "HBoxModel",
            "_view_module": "@jupyter-widgets/controls",
            "_model_module_version": "1.5.0",
            "_view_count": null,
            "_view_module_version": "1.5.0",
            "box_style": "",
            "layout": "IPY_MODEL_96de63da3bda4926aeaeed1c578ecf6e",
            "_model_module": "@jupyter-widgets/controls",
            "children": [
              "IPY_MODEL_4da691b2bbfd4bd7bbe7e564d8217922",
              "IPY_MODEL_248499279a9841e5949cf05f0d681a72"
            ]
          }
        },
        "96de63da3bda4926aeaeed1c578ecf6e": {
          "model_module": "@jupyter-widgets/base",
          "model_name": "LayoutModel",
          "state": {
            "_view_name": "LayoutView",
            "grid_template_rows": null,
            "right": null,
            "justify_content": null,
            "_view_module": "@jupyter-widgets/base",
            "overflow": null,
            "_model_module_version": "1.2.0",
            "_view_count": null,
            "flex_flow": null,
            "width": null,
            "min_width": null,
            "border": null,
            "align_items": null,
            "bottom": null,
            "_model_module": "@jupyter-widgets/base",
            "top": null,
            "grid_column": null,
            "overflow_y": null,
            "overflow_x": null,
            "grid_auto_flow": null,
            "grid_area": null,
            "grid_template_columns": null,
            "flex": null,
            "_model_name": "LayoutModel",
            "justify_items": null,
            "grid_row": null,
            "max_height": null,
            "align_content": null,
            "visibility": null,
            "align_self": null,
            "height": null,
            "min_height": null,
            "padding": null,
            "grid_auto_rows": null,
            "grid_gap": null,
            "max_width": null,
            "order": null,
            "_view_module_version": "1.2.0",
            "grid_template_areas": null,
            "object_position": null,
            "object_fit": null,
            "grid_auto_columns": null,
            "margin": null,
            "display": null,
            "left": null
          }
        },
        "4da691b2bbfd4bd7bbe7e564d8217922": {
          "model_module": "@jupyter-widgets/controls",
          "model_name": "FloatProgressModel",
          "state": {
            "_view_name": "ProgressView",
            "style": "IPY_MODEL_d1a3b95ddc1348ddbfeb6a463fbef0b1",
            "_dom_classes": [],
            "description": "100%",
            "_model_name": "FloatProgressModel",
            "bar_style": "success",
            "max": 89,
            "_view_module": "@jupyter-widgets/controls",
            "_model_module_version": "1.5.0",
            "value": 89,
            "_view_count": null,
            "_view_module_version": "1.5.0",
            "orientation": "horizontal",
            "min": 0,
            "description_tooltip": null,
            "_model_module": "@jupyter-widgets/controls",
            "layout": "IPY_MODEL_84421124c5834ef6857a0520cb49b448"
          }
        },
        "248499279a9841e5949cf05f0d681a72": {
          "model_module": "@jupyter-widgets/controls",
          "model_name": "HTMLModel",
          "state": {
            "_view_name": "HTMLView",
            "style": "IPY_MODEL_d0e35029032b45cdab39a9fb7c1d449a",
            "_dom_classes": [],
            "description": "",
            "_model_name": "HTMLModel",
            "placeholder": "​",
            "_view_module": "@jupyter-widgets/controls",
            "_model_module_version": "1.5.0",
            "value": " 89/89 [00:21&lt;00:00,  4.17it/s]",
            "_view_count": null,
            "_view_module_version": "1.5.0",
            "description_tooltip": null,
            "_model_module": "@jupyter-widgets/controls",
            "layout": "IPY_MODEL_166702d117564da28fc627f08eda5cee"
          }
        },
        "d1a3b95ddc1348ddbfeb6a463fbef0b1": {
          "model_module": "@jupyter-widgets/controls",
          "model_name": "ProgressStyleModel",
          "state": {
            "_view_name": "StyleView",
            "_model_name": "ProgressStyleModel",
            "description_width": "initial",
            "_view_module": "@jupyter-widgets/base",
            "_model_module_version": "1.5.0",
            "_view_count": null,
            "_view_module_version": "1.2.0",
            "bar_color": null,
            "_model_module": "@jupyter-widgets/controls"
          }
        },
        "84421124c5834ef6857a0520cb49b448": {
          "model_module": "@jupyter-widgets/base",
          "model_name": "LayoutModel",
          "state": {
            "_view_name": "LayoutView",
            "grid_template_rows": null,
            "right": null,
            "justify_content": null,
            "_view_module": "@jupyter-widgets/base",
            "overflow": null,
            "_model_module_version": "1.2.0",
            "_view_count": null,
            "flex_flow": null,
            "width": null,
            "min_width": null,
            "border": null,
            "align_items": null,
            "bottom": null,
            "_model_module": "@jupyter-widgets/base",
            "top": null,
            "grid_column": null,
            "overflow_y": null,
            "overflow_x": null,
            "grid_auto_flow": null,
            "grid_area": null,
            "grid_template_columns": null,
            "flex": null,
            "_model_name": "LayoutModel",
            "justify_items": null,
            "grid_row": null,
            "max_height": null,
            "align_content": null,
            "visibility": null,
            "align_self": null,
            "height": null,
            "min_height": null,
            "padding": null,
            "grid_auto_rows": null,
            "grid_gap": null,
            "max_width": null,
            "order": null,
            "_view_module_version": "1.2.0",
            "grid_template_areas": null,
            "object_position": null,
            "object_fit": null,
            "grid_auto_columns": null,
            "margin": null,
            "display": null,
            "left": null
          }
        },
        "d0e35029032b45cdab39a9fb7c1d449a": {
          "model_module": "@jupyter-widgets/controls",
          "model_name": "DescriptionStyleModel",
          "state": {
            "_view_name": "StyleView",
            "_model_name": "DescriptionStyleModel",
            "description_width": "",
            "_view_module": "@jupyter-widgets/base",
            "_model_module_version": "1.5.0",
            "_view_count": null,
            "_view_module_version": "1.2.0",
            "_model_module": "@jupyter-widgets/controls"
          }
        },
        "166702d117564da28fc627f08eda5cee": {
          "model_module": "@jupyter-widgets/base",
          "model_name": "LayoutModel",
          "state": {
            "_view_name": "LayoutView",
            "grid_template_rows": null,
            "right": null,
            "justify_content": null,
            "_view_module": "@jupyter-widgets/base",
            "overflow": null,
            "_model_module_version": "1.2.0",
            "_view_count": null,
            "flex_flow": null,
            "width": null,
            "min_width": null,
            "border": null,
            "align_items": null,
            "bottom": null,
            "_model_module": "@jupyter-widgets/base",
            "top": null,
            "grid_column": null,
            "overflow_y": null,
            "overflow_x": null,
            "grid_auto_flow": null,
            "grid_area": null,
            "grid_template_columns": null,
            "flex": null,
            "_model_name": "LayoutModel",
            "justify_items": null,
            "grid_row": null,
            "max_height": null,
            "align_content": null,
            "visibility": null,
            "align_self": null,
            "height": null,
            "min_height": null,
            "padding": null,
            "grid_auto_rows": null,
            "grid_gap": null,
            "max_width": null,
            "order": null,
            "_view_module_version": "1.2.0",
            "grid_template_areas": null,
            "object_position": null,
            "object_fit": null,
            "grid_auto_columns": null,
            "margin": null,
            "display": null,
            "left": null
          }
        },
        "3585c8d77fa34e498834267dd5f54a54": {
          "model_module": "@jupyter-widgets/controls",
          "model_name": "HBoxModel",
          "state": {
            "_view_name": "HBoxView",
            "_dom_classes": [],
            "_model_name": "HBoxModel",
            "_view_module": "@jupyter-widgets/controls",
            "_model_module_version": "1.5.0",
            "_view_count": null,
            "_view_module_version": "1.5.0",
            "box_style": "",
            "layout": "IPY_MODEL_eafd3626776d444aa7e773ed96b5c36e",
            "_model_module": "@jupyter-widgets/controls",
            "children": [
              "IPY_MODEL_fc11ee3408e34a1cbf7f0899f76dc747",
              "IPY_MODEL_a34723c43e7143fc92d1048f26ceb617"
            ]
          }
        },
        "eafd3626776d444aa7e773ed96b5c36e": {
          "model_module": "@jupyter-widgets/base",
          "model_name": "LayoutModel",
          "state": {
            "_view_name": "LayoutView",
            "grid_template_rows": null,
            "right": null,
            "justify_content": null,
            "_view_module": "@jupyter-widgets/base",
            "overflow": null,
            "_model_module_version": "1.2.0",
            "_view_count": null,
            "flex_flow": null,
            "width": null,
            "min_width": null,
            "border": null,
            "align_items": null,
            "bottom": null,
            "_model_module": "@jupyter-widgets/base",
            "top": null,
            "grid_column": null,
            "overflow_y": null,
            "overflow_x": null,
            "grid_auto_flow": null,
            "grid_area": null,
            "grid_template_columns": null,
            "flex": null,
            "_model_name": "LayoutModel",
            "justify_items": null,
            "grid_row": null,
            "max_height": null,
            "align_content": null,
            "visibility": null,
            "align_self": null,
            "height": null,
            "min_height": null,
            "padding": null,
            "grid_auto_rows": null,
            "grid_gap": null,
            "max_width": null,
            "order": null,
            "_view_module_version": "1.2.0",
            "grid_template_areas": null,
            "object_position": null,
            "object_fit": null,
            "grid_auto_columns": null,
            "margin": null,
            "display": null,
            "left": null
          }
        },
        "fc11ee3408e34a1cbf7f0899f76dc747": {
          "model_module": "@jupyter-widgets/controls",
          "model_name": "FloatProgressModel",
          "state": {
            "_view_name": "ProgressView",
            "style": "IPY_MODEL_6ec7777fe36f4a568e6025ba1259b473",
            "_dom_classes": [],
            "description": "100%",
            "_model_name": "FloatProgressModel",
            "bar_style": "success",
            "max": 58,
            "_view_module": "@jupyter-widgets/controls",
            "_model_module_version": "1.5.0",
            "value": 58,
            "_view_count": null,
            "_view_module_version": "1.5.0",
            "orientation": "horizontal",
            "min": 0,
            "description_tooltip": null,
            "_model_module": "@jupyter-widgets/controls",
            "layout": "IPY_MODEL_5b00c38933eb4520a15c85712d6c3e8a"
          }
        },
        "a34723c43e7143fc92d1048f26ceb617": {
          "model_module": "@jupyter-widgets/controls",
          "model_name": "HTMLModel",
          "state": {
            "_view_name": "HTMLView",
            "style": "IPY_MODEL_7b0661e0e7da489895c3f6e6f22ae97a",
            "_dom_classes": [],
            "description": "",
            "_model_name": "HTMLModel",
            "placeholder": "​",
            "_view_module": "@jupyter-widgets/controls",
            "_model_module_version": "1.5.0",
            "value": " 58/58 [00:13&lt;00:00,  4.18it/s]",
            "_view_count": null,
            "_view_module_version": "1.5.0",
            "description_tooltip": null,
            "_model_module": "@jupyter-widgets/controls",
            "layout": "IPY_MODEL_84b0084630464f13828afdf8f77a3314"
          }
        },
        "6ec7777fe36f4a568e6025ba1259b473": {
          "model_module": "@jupyter-widgets/controls",
          "model_name": "ProgressStyleModel",
          "state": {
            "_view_name": "StyleView",
            "_model_name": "ProgressStyleModel",
            "description_width": "initial",
            "_view_module": "@jupyter-widgets/base",
            "_model_module_version": "1.5.0",
            "_view_count": null,
            "_view_module_version": "1.2.0",
            "bar_color": null,
            "_model_module": "@jupyter-widgets/controls"
          }
        },
        "5b00c38933eb4520a15c85712d6c3e8a": {
          "model_module": "@jupyter-widgets/base",
          "model_name": "LayoutModel",
          "state": {
            "_view_name": "LayoutView",
            "grid_template_rows": null,
            "right": null,
            "justify_content": null,
            "_view_module": "@jupyter-widgets/base",
            "overflow": null,
            "_model_module_version": "1.2.0",
            "_view_count": null,
            "flex_flow": null,
            "width": null,
            "min_width": null,
            "border": null,
            "align_items": null,
            "bottom": null,
            "_model_module": "@jupyter-widgets/base",
            "top": null,
            "grid_column": null,
            "overflow_y": null,
            "overflow_x": null,
            "grid_auto_flow": null,
            "grid_area": null,
            "grid_template_columns": null,
            "flex": null,
            "_model_name": "LayoutModel",
            "justify_items": null,
            "grid_row": null,
            "max_height": null,
            "align_content": null,
            "visibility": null,
            "align_self": null,
            "height": null,
            "min_height": null,
            "padding": null,
            "grid_auto_rows": null,
            "grid_gap": null,
            "max_width": null,
            "order": null,
            "_view_module_version": "1.2.0",
            "grid_template_areas": null,
            "object_position": null,
            "object_fit": null,
            "grid_auto_columns": null,
            "margin": null,
            "display": null,
            "left": null
          }
        },
        "7b0661e0e7da489895c3f6e6f22ae97a": {
          "model_module": "@jupyter-widgets/controls",
          "model_name": "DescriptionStyleModel",
          "state": {
            "_view_name": "StyleView",
            "_model_name": "DescriptionStyleModel",
            "description_width": "",
            "_view_module": "@jupyter-widgets/base",
            "_model_module_version": "1.5.0",
            "_view_count": null,
            "_view_module_version": "1.2.0",
            "_model_module": "@jupyter-widgets/controls"
          }
        },
        "84b0084630464f13828afdf8f77a3314": {
          "model_module": "@jupyter-widgets/base",
          "model_name": "LayoutModel",
          "state": {
            "_view_name": "LayoutView",
            "grid_template_rows": null,
            "right": null,
            "justify_content": null,
            "_view_module": "@jupyter-widgets/base",
            "overflow": null,
            "_model_module_version": "1.2.0",
            "_view_count": null,
            "flex_flow": null,
            "width": null,
            "min_width": null,
            "border": null,
            "align_items": null,
            "bottom": null,
            "_model_module": "@jupyter-widgets/base",
            "top": null,
            "grid_column": null,
            "overflow_y": null,
            "overflow_x": null,
            "grid_auto_flow": null,
            "grid_area": null,
            "grid_template_columns": null,
            "flex": null,
            "_model_name": "LayoutModel",
            "justify_items": null,
            "grid_row": null,
            "max_height": null,
            "align_content": null,
            "visibility": null,
            "align_self": null,
            "height": null,
            "min_height": null,
            "padding": null,
            "grid_auto_rows": null,
            "grid_gap": null,
            "max_width": null,
            "order": null,
            "_view_module_version": "1.2.0",
            "grid_template_areas": null,
            "object_position": null,
            "object_fit": null,
            "grid_auto_columns": null,
            "margin": null,
            "display": null,
            "left": null
          }
        }
      }
    },
    "accelerator": "GPU"
  },
  "cells": [
    {
      "cell_type": "markdown",
      "metadata": {
        "id": "view-in-github",
        "colab_type": "text"
      },
      "source": [
        "<a href=\"https://colab.research.google.com/github/fwkhan/CE888/blob/main/transformers/Roberta_retrainedALLinOneBert_70_score.ipynb\" target=\"_parent\"><img src=\"https://colab.research.google.com/assets/colab-badge.svg\" alt=\"Open In Colab\"/></a>"
      ]
    },
    {
      "cell_type": "markdown",
      "metadata": {
        "id": "EJS_L52Se00B"
      },
      "source": [
        "#Installing Necessities"
      ]
    },
    {
      "cell_type": "code",
      "metadata": {
        "colab": {
          "base_uri": "https://localhost:8080/"
        },
        "id": "4EojGaw0sb_l",
        "outputId": "be9e15db-c5a2-4927-c496-04e9111e5d57"
      },
      "source": [
        "# run this cell, then restart the runtime before continuing\n",
        "!pip install nlp\n",
        "!pip install transformers"
      ],
      "execution_count": null,
      "outputs": [
        {
          "output_type": "stream",
          "text": [
            "Requirement already satisfied: nlp in /usr/local/lib/python3.7/dist-packages (0.4.0)\n",
            "Requirement already satisfied: xxhash in /usr/local/lib/python3.7/dist-packages (from nlp) (2.0.0)\n",
            "Requirement already satisfied: pyarrow>=0.16.0 in /usr/local/lib/python3.7/dist-packages (from nlp) (3.0.0)\n",
            "Requirement already satisfied: pandas in /usr/local/lib/python3.7/dist-packages (from nlp) (1.1.5)\n",
            "Requirement already satisfied: requests>=2.19.0 in /usr/local/lib/python3.7/dist-packages (from nlp) (2.23.0)\n",
            "Requirement already satisfied: filelock in /usr/local/lib/python3.7/dist-packages (from nlp) (3.0.12)\n",
            "Requirement already satisfied: dill in /usr/local/lib/python3.7/dist-packages (from nlp) (0.3.3)\n",
            "Requirement already satisfied: numpy in /usr/local/lib/python3.7/dist-packages (from nlp) (1.19.5)\n",
            "Requirement already satisfied: tqdm>=4.27 in /usr/local/lib/python3.7/dist-packages (from nlp) (4.41.1)\n",
            "Requirement already satisfied: pytz>=2017.2 in /usr/local/lib/python3.7/dist-packages (from pandas->nlp) (2018.9)\n",
            "Requirement already satisfied: python-dateutil>=2.7.3 in /usr/local/lib/python3.7/dist-packages (from pandas->nlp) (2.8.1)\n",
            "Requirement already satisfied: urllib3!=1.25.0,!=1.25.1,<1.26,>=1.21.1 in /usr/local/lib/python3.7/dist-packages (from requests>=2.19.0->nlp) (1.24.3)\n",
            "Requirement already satisfied: idna<3,>=2.5 in /usr/local/lib/python3.7/dist-packages (from requests>=2.19.0->nlp) (2.10)\n",
            "Requirement already satisfied: certifi>=2017.4.17 in /usr/local/lib/python3.7/dist-packages (from requests>=2.19.0->nlp) (2020.12.5)\n",
            "Requirement already satisfied: chardet<4,>=3.0.2 in /usr/local/lib/python3.7/dist-packages (from requests>=2.19.0->nlp) (3.0.4)\n",
            "Requirement already satisfied: six>=1.5 in /usr/local/lib/python3.7/dist-packages (from python-dateutil>=2.7.3->pandas->nlp) (1.15.0)\n",
            "Requirement already satisfied: transformers in /usr/local/lib/python3.7/dist-packages (4.3.2)\n",
            "Requirement already satisfied: importlib-metadata; python_version < \"3.8\" in /usr/local/lib/python3.7/dist-packages (from transformers) (3.4.0)\n",
            "Requirement already satisfied: packaging in /usr/local/lib/python3.7/dist-packages (from transformers) (20.9)\n",
            "Requirement already satisfied: numpy>=1.17 in /usr/local/lib/python3.7/dist-packages (from transformers) (1.19.5)\n",
            "Requirement already satisfied: tokenizers<0.11,>=0.10.1 in /usr/local/lib/python3.7/dist-packages (from transformers) (0.10.1)\n",
            "Requirement already satisfied: requests in /usr/local/lib/python3.7/dist-packages (from transformers) (2.23.0)\n",
            "Requirement already satisfied: regex!=2019.12.17 in /usr/local/lib/python3.7/dist-packages (from transformers) (2019.12.20)\n",
            "Requirement already satisfied: sacremoses in /usr/local/lib/python3.7/dist-packages (from transformers) (0.0.43)\n",
            "Requirement already satisfied: tqdm>=4.27 in /usr/local/lib/python3.7/dist-packages (from transformers) (4.41.1)\n",
            "Requirement already satisfied: filelock in /usr/local/lib/python3.7/dist-packages (from transformers) (3.0.12)\n",
            "Requirement already satisfied: zipp>=0.5 in /usr/local/lib/python3.7/dist-packages (from importlib-metadata; python_version < \"3.8\"->transformers) (3.4.0)\n",
            "Requirement already satisfied: typing-extensions>=3.6.4; python_version < \"3.8\" in /usr/local/lib/python3.7/dist-packages (from importlib-metadata; python_version < \"3.8\"->transformers) (3.7.4.3)\n",
            "Requirement already satisfied: pyparsing>=2.0.2 in /usr/local/lib/python3.7/dist-packages (from packaging->transformers) (2.4.7)\n",
            "Requirement already satisfied: chardet<4,>=3.0.2 in /usr/local/lib/python3.7/dist-packages (from requests->transformers) (3.0.4)\n",
            "Requirement already satisfied: urllib3!=1.25.0,!=1.25.1,<1.26,>=1.21.1 in /usr/local/lib/python3.7/dist-packages (from requests->transformers) (1.24.3)\n",
            "Requirement already satisfied: certifi>=2017.4.17 in /usr/local/lib/python3.7/dist-packages (from requests->transformers) (2020.12.5)\n",
            "Requirement already satisfied: idna<3,>=2.5 in /usr/local/lib/python3.7/dist-packages (from requests->transformers) (2.10)\n",
            "Requirement already satisfied: joblib in /usr/local/lib/python3.7/dist-packages (from sacremoses->transformers) (1.0.1)\n",
            "Requirement already satisfied: six in /usr/local/lib/python3.7/dist-packages (from sacremoses->transformers) (1.15.0)\n",
            "Requirement already satisfied: click in /usr/local/lib/python3.7/dist-packages (from sacremoses->transformers) (7.1.2)\n"
          ],
          "name": "stdout"
        }
      ]
    },
    {
      "cell_type": "code",
      "metadata": {
        "id": "3-LH9-hLgyoV",
        "colab": {
          "base_uri": "https://localhost:8080/"
        },
        "outputId": "5906a167-5742-4c34-d6a4-7188508146c5"
      },
      "source": [
        "import tensorflow as tf\r\n",
        "# Get the GPU device name.\r\n",
        "device_name = tf.test.gpu_device_name()\r\n",
        "# The device name should look like the following:\r\n",
        "if device_name == '/device:GPU:0':\r\n",
        "    print('Found GPU at: {}'.format(device_name))\r\n",
        "else:\r\n",
        "    raise SystemError('GPU device not found')"
      ],
      "execution_count": null,
      "outputs": [
        {
          "output_type": "stream",
          "text": [
            "Found GPU at: /device:GPU:0\n"
          ],
          "name": "stdout"
        }
      ]
    },
    {
      "cell_type": "code",
      "metadata": {
        "colab": {
          "base_uri": "https://localhost:8080/"
        },
        "id": "ZXxZNuNCfIdv",
        "outputId": "23aa5874-caaf-4616-b085-54f192613075"
      },
      "source": [
        "import numpy as np\r\n",
        "import pandas as pd\r\n",
        "import random\r\n",
        "import requests\r\n",
        "\r\n",
        "import nltk\r\n",
        "from nltk import word_tokenize\r\n",
        "from nltk.corpus import stopwords\r\n",
        "from nltk.classify import ClassifierI\r\n",
        "from nltk.stem import PorterStemmer\r\n",
        "from nltk.tokenize import word_tokenize, sent_tokenize\r\n",
        "from nltk.corpus import stopwords\r\n",
        "from nltk.stem import WordNetLemmatizer\r\n",
        "import seaborn as sns\r\n",
        "\r\n",
        "from tqdm.notebook import tqdm\r\n",
        "\r\n",
        "from transformers import BertForSequenceClassification, BertTokenizer\r\n",
        "from transformers import AdamW,get_linear_schedule_with_warmup\r\n",
        "\r\n",
        "from sklearn.metrics import recall_score\r\n",
        "from sklearn.metrics import f1_score \r\n",
        "\r\n",
        "import torch\r\n",
        "from torch.utils.data import TensorDataset\r\n",
        "from torch.utils.data import RandomSampler,SequentialSampler,DataLoader\r\n",
        "\r\n",
        "import warnings\r\n",
        "warnings.filterwarnings('ignore')\r\n",
        "\r\n",
        "nltk.download('stopwords')\r\n",
        "nltk.download('wordnet')\r\n",
        "nltk.download('punkt')"
      ],
      "execution_count": null,
      "outputs": [
        {
          "output_type": "stream",
          "text": [
            "[nltk_data] Downloading package stopwords to /root/nltk_data...\n",
            "[nltk_data]   Package stopwords is already up-to-date!\n",
            "[nltk_data] Downloading package wordnet to /root/nltk_data...\n",
            "[nltk_data]   Package wordnet is already up-to-date!\n",
            "[nltk_data] Downloading package punkt to /root/nltk_data...\n",
            "[nltk_data]   Package punkt is already up-to-date!\n"
          ],
          "name": "stdout"
        },
        {
          "output_type": "execute_result",
          "data": {
            "text/plain": [
              "True"
            ]
          },
          "metadata": {
            "tags": []
          },
          "execution_count": 46
        }
      ]
    },
    {
      "cell_type": "code",
      "metadata": {
        "id": "32-g11zIKAqg"
      },
      "source": [
        "############################ SENTIMENT ANALYSIS #################################################\n",
        "SENTIMENT_TRAIN_TEXT = 'https://raw.githubusercontent.com/cardiffnlp/tweeteval/main/datasets/sentiment/train_text.txt'\n",
        "SENTIMENT_VALIDATION_TEXT = 'https://raw.githubusercontent.com/cardiffnlp/tweeteval/main/datasets/sentiment/val_text.txt'\n",
        "SENTIMENT_TEST_TEXT = 'https://raw.githubusercontent.com/cardiffnlp/tweeteval/main/datasets/sentiment/test_text.txt'\n",
        "\n",
        "SENTIMENT_TRAIN_LABEL = 'https://raw.githubusercontent.com/cardiffnlp/tweeteval/main/datasets/sentiment/train_labels.txt'\n",
        "SENTIMENT_VALIDATION_LABEL = 'https://raw.githubusercontent.com/cardiffnlp/tweeteval/main/datasets/sentiment/val_labels.txt'\n",
        "SENTIMENT_TEST_LABEL = 'https://raw.githubusercontent.com/cardiffnlp/tweeteval/main/datasets/sentiment/test_labels.txt'\n",
        "\n",
        "############################ HATE #################################################\n",
        "HATE_TRAIN_TEXT = 'https://raw.githubusercontent.com/cardiffnlp/tweeteval/main/datasets/hate/train_text.txt'\n",
        "HATE_VALIDATION_TEXT = 'https://raw.githubusercontent.com/cardiffnlp/tweeteval/main/datasets/hate/val_text.txt'\n",
        "HATE_TEST_TEXT = 'https://raw.githubusercontent.com/cardiffnlp/tweeteval/main/datasets/hate/test_text.txt'\n",
        "\n",
        "HATE_TRAIN_LABEL = 'https://raw.githubusercontent.com/cardiffnlp/tweeteval/main/datasets/hate/train_labels.txt'\n",
        "HATE_VALIDATION_LABEL = 'https://raw.githubusercontent.com/cardiffnlp/tweeteval/main/datasets/hate/val_labels.txt'\n",
        "HATE_TEST_LABEL = 'https://raw.githubusercontent.com/cardiffnlp/tweeteval/main/datasets/hate/test_labels.txt'\n",
        "\n",
        "############################ OFFENSIVE LANGUAGE#################################################\n",
        "OFFENSE_TRAIN_TEXT = 'https://raw.githubusercontent.com/cardiffnlp/tweeteval/main/datasets/offensive/train_text.txt'\n",
        "OFFENSE_VALIDATION_TEXT = 'https://raw.githubusercontent.com/cardiffnlp/tweeteval/main/datasets/offensive/val_text.txt'\n",
        "OFFENSE_TEST_TEXT = 'https://raw.githubusercontent.com/cardiffnlp/tweeteval/main/datasets/offensive/test_text.txt'\n",
        "\n",
        "OFFENSE_TRAIN_LABEL = 'https://raw.githubusercontent.com/cardiffnlp/tweeteval/main/datasets/offensive/train_labels.txt'\n",
        "OFFENSE_VALIDATION_LABEL = 'https://raw.githubusercontent.com/cardiffnlp/tweeteval/main/datasets/offensive/val_labels.txt'\n",
        "OFFENSE_TEST_LABEL = 'https://raw.githubusercontent.com/cardiffnlp/tweeteval/main/datasets/offensive/test_labels.txt'"
      ],
      "execution_count": null,
      "outputs": []
    },
    {
      "cell_type": "code",
      "metadata": {
        "id": "utjMLdmqsUuA"
      },
      "source": [
        "def preprocess(df): \n",
        "    lemmatizer  = WordNetLemmatizer()\n",
        "    ignore_words = ['user', 'st'] \n",
        "    df['processed_tweets'] = df['tweet'].replace('[^a-zA-Z]',' ', regex=True,\n",
        "                                                  inplace=False)\n",
        "    df['processed_tweets'] = df['processed_tweets'].apply(lambda x: [w.lower() for w in x.split()])\n",
        "    df['processed_tweets'] = df['processed_tweets'].apply(lambda tweet: ([word for word in tweet if not word in stopwords.words(\"english\")]))\n",
        "    df['processed_tweets'] = df['processed_tweets'].apply(lambda tweet: ([lemmatizer.lemmatize(word) for word in tweet]))\n",
        "\n",
        "    df['processed_tweets'] = df['processed_tweets'].apply(lambda tweet: ' '.join([word for word in tweet if len(word)>2]))\n",
        "\n",
        "    df['processed_tweets'] = df['processed_tweets'].apply(lambda x: ' '.join([word for word in x.split() if not word in ignore_words]))\n",
        "    \n",
        "    df[\"sentence_length\"] = df.tweet.apply(lambda x: len(str(x).split()))\n",
        "    return df\n",
        "\n",
        "\n",
        "# Wrapper to convert text data to pandas Dataframe\n",
        "def txt_to_df(data, label, classification_task):\n",
        "    tweet = []\n",
        "    sentiments = []\n",
        "    for sentence in data.split('\\n'):\n",
        "        tweet.append(sentence)\n",
        "    for sentiment in label.split('\\n'):\n",
        "        try:\n",
        "            sentiments.append(int(sentiment))\n",
        "        except ValueError:\n",
        "            pass\n",
        "    df= pd.DataFrame(tweet[:-1], columns=['tweet'])\n",
        "    df['label'] = sentiments\n",
        "    if classification_task == 'Sentiment_analysis':\n",
        "      df['sentiment'] = df.label.apply(lambda x: 'Negative'if x==0 else ('Neutral' if x==1 else 'Positive'))\n",
        "    if classification_task == 'hate_analysis':\n",
        "      df['sentiment'] = df.label.apply(lambda x: 'Not-hate'if x==0 else 'hate')\n",
        "    if classification_task == 'offensive_analysis':\n",
        "      df['sentiment'] = df.label.apply(lambda x: 'Not-offensive 'if x==0 else 'offensive')\n",
        "    return df\n",
        "\n",
        "\n",
        "def prepare_dataset(TRAIN_TEXT, TRAIN_LABEL, VAL_TEXT, VAL_LABEL, TEST_TEXT, TEST_LABEL, classification_task):\n",
        "  # Reading Train, Vvalidation & Test data from tweeteval Github Repo.\n",
        "  train_tweets_txt = requests.get(TRAIN_TEXT).text\n",
        "  train_labels_txt = requests.get(TRAIN_LABEL).text\n",
        "\n",
        "  val_tweets_txt = requests.get(VAL_TEXT).text\n",
        "  val_labels_txt = requests.get(VAL_LABEL).text\n",
        "\n",
        "  test_tweets_txt = requests.get(TEST_TEXT).text\n",
        "  test_labels_txt = requests.get(TEST_LABEL).text\n",
        "\n",
        "  # Converting text data to pandas Dataframe\n",
        "  train_df = txt_to_df(train_tweets_txt, train_labels_txt, classification_task)\n",
        "  val_df = txt_to_df(val_tweets_txt, val_labels_txt, classification_task)\n",
        "  test_df = txt_to_df(test_tweets_txt, test_labels_txt, classification_task)\n",
        "\n",
        "  train_df = preprocess(train_df)\n",
        "  val_df = preprocess(val_df)\n",
        "  test_df = preprocess(test_df)  \n",
        "\n",
        "  return train_df, val_df, test_df\n",
        "\n"
      ],
      "execution_count": null,
      "outputs": []
    },
    {
      "cell_type": "code",
      "metadata": {
        "id": "nq1i8QiBtY0e"
      },
      "source": [
        "# model = BertForSequenceClassification.from_pretrained('bert-base-uncased')\n",
        "# tokenizer = BertTokenizerFast.from_pretrained('bert-base-uncased')"
      ],
      "execution_count": null,
      "outputs": []
    },
    {
      "cell_type": "code",
      "metadata": {
        "id": "Wbt5xh4o4xeS"
      },
      "source": [
        "from transformers import RobertaTokenizer, RobertaForSequenceClassification"
      ],
      "execution_count": null,
      "outputs": []
    },
    {
      "cell_type": "code",
      "metadata": {
        "id": "RAh5QlfnKAu4"
      },
      "source": [
        "def initialize_bert(num_of_class):\n",
        "  model = RobertaForSequenceClassification.from_pretrained('roberta-base',\n",
        "                                      num_labels = num_of_class,\n",
        "                                      output_attentions = False,\n",
        "                                      output_hidden_states =  False)\n",
        "\n",
        "  tokenizer = RobertaTokenizer.from_pretrained('roberta-base')\n",
        "  return model, tokenizer"
      ],
      "execution_count": null,
      "outputs": []
    },
    {
      "cell_type": "code",
      "metadata": {
        "id": "hZTLeMGZKAyO"
      },
      "source": [
        "def encode_data(tokenizer, df, max_sequence_length=256):\n",
        "  encoder = tokenizer.batch_encode_plus(df.tweet.values,\n",
        "                                            add_special_tokens = True,\n",
        "                                            pad_to_max_length = True,\n",
        "                                            #  max_length = 256,\n",
        "                                            max_length = max_sequence_length,\n",
        "                                            truncation=True,\n",
        "                                            return_tensors = 'pt')\n",
        "\n",
        "\n",
        "  return encoder\n",
        "\n",
        "def extract_inputId_attentionMask(df, encoder):\n",
        "  input_ids = encoder['input_ids']\n",
        "  attention_masks = encoder[\"attention_mask\"]\n",
        "  labels = torch.tensor(df.label.values)\n",
        "  return input_ids, attention_masks, labels"
      ],
      "execution_count": null,
      "outputs": []
    },
    {
      "cell_type": "code",
      "metadata": {
        "id": "YwtP6PEakOhL"
      },
      "source": [
        "def get_tesnsor_dataset(input_ids, attention_masks, labels):\r\n",
        "  return TensorDataset(input_ids, attention_masks, labels)\r\n"
      ],
      "execution_count": null,
      "outputs": []
    },
    {
      "cell_type": "code",
      "metadata": {
        "id": "wdPST8kcnlz0"
      },
      "source": [
        "def dataloader_object(data, batch_size=16):\r\n",
        "  dataloader = DataLoader(\r\n",
        "    data,\r\n",
        "    sampler= RandomSampler(data),\r\n",
        "    batch_size = batch_size)\r\n",
        "  return dataloader"
      ],
      "execution_count": null,
      "outputs": []
    },
    {
      "cell_type": "code",
      "metadata": {
        "id": "lrNuno0PpDlb"
      },
      "source": [
        "def freeze_bert_layers(model):\r\n",
        "  for param in model.bert.parameters():\r\n",
        "    param.requires_grad = False"
      ],
      "execution_count": null,
      "outputs": []
    },
    {
      "cell_type": "code",
      "metadata": {
        "id": "BN5tZWYBjgQQ"
      },
      "source": [
        "# Get all of the model's parameters as a list of tuples.\r\n",
        "\r\n",
        "def print_model_params(model):\r\n",
        "  params = list(model.named_parameters())\r\n",
        "  print('The BERT model has {:} different named parameters.\\n'.format(len(params)))\r\n",
        "  print('==== Embedding Layer ====\\n')\r\n",
        "  for p in params[0:5]:\r\n",
        "      print(\"{:<55} {:>12}\".format(p[0], str(tuple(p[1].size()))))\r\n",
        "  print('\\n==== First Transformer ====\\n')\r\n",
        "  for p in params[5:21]:\r\n",
        "      print(\"{:<55} {:>12}\".format(p[0], str(tuple(p[1].size()))))\r\n",
        "  print('\\n==== Output Layer ====\\n')\r\n",
        "  for p in params[-4:]:\r\n",
        "      print(\"{:<55} {:>12}\".format(p[0], str(tuple(p[1].size()))))"
      ],
      "execution_count": null,
      "outputs": []
    },
    {
      "cell_type": "code",
      "metadata": {
        "id": "mfjkRczVKBCt"
      },
      "source": [
        "# For the purposes of fine-tuning, the authors recommend choosing from the following values:\n",
        "# Batch size: 16, 32 (We chose 32 when creating our DataLoaders).\n",
        "# Learning rate (Adam): 5e-5, 3e-5, 2e-5 (We’ll use 2e-5).\n",
        "# Number of epochs: 2, 3, 4 (We’ll use 4).\n",
        "\n",
        "def initialize_optimizer(model, dataloader, lr=1e-5, epochs=2):\n",
        "  optimizer = AdamW(model.parameters(),lr,eps = 1e-8)\n",
        "\n",
        "  scheduler = get_linear_schedule_with_warmup(\n",
        "              optimizer,\n",
        "      num_warmup_steps = 0,\n",
        "    num_training_steps = len(dataloader)*epochs \n",
        "  )\n",
        "  return optimizer, scheduler"
      ],
      "execution_count": null,
      "outputs": []
    },
    {
      "cell_type": "code",
      "metadata": {
        "id": "dwS3tPvfKBGH"
      },
      "source": [
        "def f1_score_func(predictions,y_labelled):\n",
        "    preds_flatten = np.argmax(predictions,axis=1).flatten()\n",
        "    labels_flatten = y_labelled.flatten()\n",
        "    return f1_score(labels_flatten,preds_flatten,average = 'macro')"
      ],
      "execution_count": null,
      "outputs": []
    },
    {
      "cell_type": "code",
      "metadata": {
        "id": "wuxapDjIS9Ne"
      },
      "source": [
        "def recall_score_func(predictions,y_labelled):\r\n",
        "    preds_flatten = np.argmax(predictions,axis=1).flatten()\r\n",
        "    labels_flatten = y_labelled.flatten()\r\n",
        "    return recall_score(labels_flatten,preds_flatten,average = 'macro')"
      ],
      "execution_count": null,
      "outputs": []
    },
    {
      "cell_type": "code",
      "metadata": {
        "id": "Yh7k8RIrKBQS"
      },
      "source": [
        "def load_model_to_device(model):\n",
        "  device = torch.device('cuda' if torch.cuda.is_available() else 'cpu')\n",
        "  model.to(device)\n",
        "  print(f\"Loading:{device}\")\n",
        "  return device"
      ],
      "execution_count": null,
      "outputs": []
    },
    {
      "cell_type": "code",
      "metadata": {
        "id": "Mqc7Vw9BKBTf"
      },
      "source": [
        "def evaluate(model, device, dataloader_val):\n",
        "    model.eval()\n",
        "    \n",
        "    loss_val_total = 0\n",
        "    predictions,true_vals = [],[]\n",
        "    \n",
        "    for batch in tqdm(dataloader_val):\n",
        "        batch = tuple(b.to(device) for b in batch)\n",
        "        \n",
        "        inputs = {'input_ids':  batch[0],\n",
        "                  'attention_mask':batch[1],\n",
        "                  'labels': batch[2]\n",
        "                 }\n",
        "        with torch.no_grad():\n",
        "            outputs = model(**inputs)\n",
        "            \n",
        "        loss = outputs[0]\n",
        "        logits = outputs[1]\n",
        "        loss_val_total +=loss.item()\n",
        "        \n",
        "        logits = logits.detach().cpu().numpy()\n",
        "        label_ids = inputs['labels'].cpu().numpy()\n",
        "        predictions.append(logits)\n",
        "        true_vals.append(label_ids)\n",
        "        \n",
        "        \n",
        "    loss_val_avg = loss_val_total/len(dataloader_val)  \n",
        "    \n",
        "    predictions = np.concatenate(predictions,axis=0)\n",
        "    true_vals = np.concatenate(true_vals,axis=0) \n",
        "    return loss_val_avg,predictions,true_vals"
      ],
      "execution_count": null,
      "outputs": []
    },
    {
      "cell_type": "markdown",
      "metadata": {
        "id": "asPzw5DSlV4r"
      },
      "source": [
        "1.   score 71.28 --- 70.02\r\n",
        "2.   batch size train-16, val 32, test -32\r\n",
        "1.   lr = 1e-5\r\n",
        "2.   1 Epoch\r\n",
        "1.   max_length = 256\r\n",
        "\r\n",
        "\r\n",
        "1.   score 71.19(epoch-1)\r\n",
        "2.   batch size train-16, val 16, test -16\r\n",
        "1.   lr = 1e-5\r\n",
        "2.   1 Epoch\r\n",
        "1.   max_length = 125\r\n",
        "\r\n",
        "\r\n",
        "\r\n",
        "1.   score (epoch-1)\r\n",
        "2.   batch size train-16, val 16, test -16\r\n",
        "1.   lr = 2e-5\r\n",
        "2.   1 Epoch\r\n",
        "1.   max_length = 125\r\n"
      ]
    },
    {
      "cell_type": "code",
      "metadata": {
        "id": "LO_4hnOIOpWL"
      },
      "source": [
        "def init_training(model, optimizer, scheduler, epochs, device, dataloader_train, dataloader_val): \n",
        "  for epoch in tqdm(range(1,epochs+1)):\n",
        "      model.train()\n",
        "      \n",
        "      loss_train_total=0\n",
        "      \n",
        "      progress_bar = tqdm(dataloader_train,desc = \"Epoch: {:1d}\".format(epoch),leave = False,disable = False)\n",
        "      \n",
        "      \n",
        "      for batch in progress_bar:\n",
        "          model.zero_grad()\n",
        "          \n",
        "          batch = tuple(b.to(device) for b in batch)\n",
        "          \n",
        "          inputs = {\n",
        "              \"input_ids\":batch[0],\n",
        "              \"attention_mask\":batch[1],\n",
        "              \"labels\":batch[2]\n",
        "              \n",
        "          }\n",
        "          outputs = model(**inputs)\n",
        "          \n",
        "          loss = outputs[0]\n",
        "          loss_train_total +=loss.item()\n",
        "          loss.backward()\n",
        "          \n",
        "          torch.nn.utils.clip_grad_norm(model.parameters(),1.0)\n",
        "          \n",
        "          optimizer.step()\n",
        "          scheduler.step()\n",
        "          \n",
        "          \n",
        "          progress_bar.set_postfix({'training_loss':'{:.3f}'.format(loss.item()/len(batch))})\n",
        "      \n",
        "      tqdm.write('\\nEpoch {epoch}')\n",
        "      \n",
        "      loss_train_avg = loss_train_total/len(dataloader_train)\n",
        "      tqdm.write(f'Training Loss: {loss_train_avg}')\n",
        "      val_loss,predictions,true_vals = evaluate(model,device, dataloader_val)\n",
        "\n",
        "      if classification_task == 'SENTIMENT_ANALYSIS':\n",
        "        test_score = recall_score_func(predictions,true_vals)\n",
        "      else:\n",
        "        test_score = f1_score_func(predictions,true_vals)\n",
        "      \n",
        "\n",
        "      tqdm.write(f'Val Loss:{val_loss}\\n Test Score:{test_score}')\n",
        "      "
      ],
      "execution_count": null,
      "outputs": []
    },
    {
      "cell_type": "code",
      "metadata": {
        "id": "Q17sYfbmOpfD"
      },
      "source": [
        "def evaluate_wrapper(model, device, dataloader_test):\n",
        "  val_loss,predictions,true_vals = evaluate(model,device, dataloader_test)\n",
        "\n",
        "  if classification_task == 'SENTIMENT_ANALYSIS':\n",
        "    test_score = recall_score_func(predictions,true_vals)\n",
        "  else:\n",
        "    test_score = f1_score_func(predictions,true_vals)  \n",
        "\n",
        "  tqdm.write(f'Val Loss:{val_loss}\\n Test Score:{test_score}')"
      ],
      "execution_count": null,
      "outputs": []
    },
    {
      "cell_type": "code",
      "metadata": {
        "id": "xGYy-c76KA1T"
      },
      "source": [
        "def fineTune_bert(batch_size, lr, epochs, max_length):\n",
        "\n",
        "  num_of_class= len(train_df.sentiment.unique())\n",
        "\n",
        "  seed_val = 17\n",
        "  random.seed(seed_val)\n",
        "  np.random.seed(seed_val)\n",
        "  torch.manual_seed(seed_val)\n",
        "  torch.cuda.manual_seed_all(seed_val)\n",
        "\n",
        "\n",
        "  model, tokenizer = initialize_bert(num_of_class)\n",
        "\n",
        "  encoder_train = encode_data(tokenizer, train_df, max_length)\n",
        "  encoder_eval = encode_data(tokenizer, val_df, max_length)\n",
        "  encoder_test = encode_data(tokenizer, test_df, max_length)\n",
        "\n",
        "  input_ids_train, attention_masks_train, labels_train = extract_inputId_attentionMask(train_df, encoder_train)\n",
        "  input_ids_eval, attention_masks_eval, labels_eval = extract_inputId_attentionMask(val_df, encoder_eval)\n",
        "  input_ids_test, attention_masks_test, labels_test = extract_inputId_attentionMask(test_df, encoder_test)\n",
        "\n",
        "  data_train = get_tesnsor_dataset(input_ids_train,attention_masks_train,labels_train)\n",
        "  data_eval = get_tesnsor_dataset(input_ids_eval,attention_masks_eval,labels_eval)\n",
        "  data_test = get_tesnsor_dataset(input_ids_test,attention_masks_test,labels_test)\n",
        "\n",
        "  dataloader_train = dataloader_object(data_train, batch_size) \n",
        "  dataloader_eval = dataloader_object(data_eval, batch_size) \n",
        "  dataloader_test = dataloader_object(data_test, batch_size)\n",
        "\n",
        "  # freeze_bert_layers(model)\n",
        "  print_model_params(model)\n",
        "  optimizer, scheduler = initialize_optimizer(model,dataloader_train, lr, epochs)\n",
        "  device = load_model_to_device(model)\n",
        "\n",
        "  init_training(model,optimizer,  scheduler, epochs, device, dataloader_train, dataloader_eval)\n",
        "  evaluate_wrapper(model, device, dataloader_test)"
      ],
      "execution_count": null,
      "outputs": []
    },
    {
      "cell_type": "markdown",
      "metadata": {
        "id": "4QkRqHB4xA_V"
      },
      "source": [
        "For the purposes of fine-tuning, the authors recommend choosing from the following values:\r\n",
        "Batch size: 16, 32 (We chose 16 when creating our DataLoaders)\r\n",
        "  \r\n",
        "\r\n",
        "For the purposes of fine-tuning, the authors recommend choosing from the following values:\r\n",
        "Batch size: 16, 32 (We chose 32 when creating our DataLoaders).\r\n",
        "Learning rate (Adam): 5e-5, 3e-5, 2e-5 (We’ll use 1e-5).\r\n",
        "Number of epochs: 2, 3, 4 (We’ll use 4)."
      ]
    },
    {
      "cell_type": "code",
      "metadata": {
        "colab": {
          "base_uri": "https://localhost:8080/",
          "height": 1000,
          "referenced_widgets": [
            "eca645d7fa794133a335a0262fa4094a",
            "a1257c722b154b7faffe965899abffb5",
            "ccda86aaec0d4873adceef8b86290afa",
            "8a617166735f404dafd907ca12afa0ad",
            "1b5e956bfc8f45cba3370c3d9707e7fe",
            "256d8ec1eeb94376a8fc59638169899f",
            "463ef593888e41c2ba417045f537c474",
            "088ebdfd643c48239710c2c34b946921",
            "db8e2a605b31468691c50bedc4c1b48c",
            "18d4e753d81549e89c6545eac50623ca",
            "9ea8379e1d404e27af0aff4e253377b2",
            "aa9dc9e4823a4afc932eddc67ac3e57d",
            "95dea67c1904476dae30a42bbfd50dbf",
            "06e47c62a67247028a86a7ac703271a8",
            "e22eea0910d248809a4cce72fbc85bfe",
            "f6d41e04cfea4037901d9dcad83e41b7",
            "8eafa3067b12423488a98f7c9670339f",
            "96de63da3bda4926aeaeed1c578ecf6e",
            "4da691b2bbfd4bd7bbe7e564d8217922",
            "248499279a9841e5949cf05f0d681a72",
            "d1a3b95ddc1348ddbfeb6a463fbef0b1",
            "84421124c5834ef6857a0520cb49b448",
            "d0e35029032b45cdab39a9fb7c1d449a",
            "166702d117564da28fc627f08eda5cee",
            "3585c8d77fa34e498834267dd5f54a54",
            "eafd3626776d444aa7e773ed96b5c36e",
            "fc11ee3408e34a1cbf7f0899f76dc747",
            "a34723c43e7143fc92d1048f26ceb617",
            "6ec7777fe36f4a568e6025ba1259b473",
            "5b00c38933eb4520a15c85712d6c3e8a",
            "7b0661e0e7da489895c3f6e6f22ae97a",
            "84b0084630464f13828afdf8f77a3314"
          ]
        },
        "id": "LE3hl_IQf-Li",
        "outputId": "84226aa6-a6e5-4531-ae8f-e8dca3133e47"
      },
      "source": [
        "import torch\r\n",
        "\r\n",
        "classification_task_dict = {'SENTIMENT_ANALYSIS' : 'Sentiment_analysis',\r\n",
        "                      'HATE_ANALYSIS' : 'hate_analysis',\r\n",
        "                      'OFFENSIVE_LANGUAGE' : 'offensive_analysis'\r\n",
        "                      }\r\n",
        "class_dict = {'SENTIMENT_ANALYSIS' :['Negative', 'Neutral', 'Positive'],\r\n",
        "              'HATE_ANALYSIS' : ['Not-hate', 'hate'],\r\n",
        "              'OFFENSIVE_LANGUAGE' : ['Not-offensive', 'offensive']}\r\n",
        "\r\n",
        "config = {'batch_size' : 15,\r\n",
        "          'lr' : 1e-5,\r\n",
        "          'epochs' : 1,\r\n",
        "          'max_length' : 256\r\n",
        "        }\r\n",
        "\r\n",
        "#         score 71.28 --- 70.02\r\n",
        "# batch size train-16, val 32, test -32\r\n",
        "# lr = 1e-5\r\n",
        "# 1 Epoch\r\n",
        "# max_length = 256\r\n",
        "\r\n",
        "for classification_task, task in classification_task_dict.items():\r\n",
        "  torch.cuda.empty_cache()\r\n",
        "  print('=========================================')\r\n",
        "  print('CLASSIFICATION TASK: {}'.format(classification_task))\r\n",
        "  print('=========================================')\r\n",
        "  if classification_task == 'SENTIMENT_ANALYSIS':\r\n",
        "    continue\r\n",
        "    train_df, val_df, test_df = prepare_dataset(SENTIMENT_TRAIN_TEXT, SENTIMENT_TRAIN_LABEL,\r\n",
        "                        SENTIMENT_VALIDATION_TEXT, SENTIMENT_VALIDATION_LABEL,\r\n",
        "                        SENTIMENT_TEST_TEXT, SENTIMENT_TEST_LABEL, classification_task_dict['SENTIMENT_ANALYSIS']\r\n",
        "                        )\r\n",
        "\r\n",
        "  if classification_task == 'HATE_ANALYSIS':\r\n",
        "    continue\r\n",
        "    train_df, val_df, test_df = prepare_dataset(HATE_TRAIN_TEXT, HATE_TRAIN_LABEL,\r\n",
        "                        HATE_VALIDATION_TEXT, HATE_VALIDATION_LABEL,\r\n",
        "                        HATE_TEST_TEXT, HATE_TEST_LABEL, classification_task_dict['HATE_ANALYSIS']\r\n",
        "                        )\r\n",
        "    \r\n",
        "  if classification_task == 'OFFENSIVE_LANGUAGE':\r\n",
        "    # continue\r\n",
        "    train_df, val_df, test_df = prepare_dataset(OFFENSE_TRAIN_TEXT, OFFENSE_TRAIN_LABEL,\r\n",
        "                        OFFENSE_VALIDATION_TEXT, OFFENSE_VALIDATION_LABEL,\r\n",
        "                        OFFENSE_TEST_TEXT, OFFENSE_TEST_LABEL, classification_task_dict['OFFENSIVE_LANGUAGE']\r\n",
        "                        )\r\n",
        "  fineTune_bert(config['batch_size'], config['lr'], config['epochs'], config['max_length'])\r\n"
      ],
      "execution_count": null,
      "outputs": [
        {
          "output_type": "stream",
          "text": [
            "=========================================\n",
            "CLASSIFICATION TASK: SENTIMENT_ANALYSIS\n",
            "=========================================\n",
            "=========================================\n",
            "CLASSIFICATION TASK: HATE_ANALYSIS\n",
            "=========================================\n",
            "=========================================\n",
            "CLASSIFICATION TASK: OFFENSIVE_LANGUAGE\n",
            "=========================================\n"
          ],
          "name": "stdout"
        },
        {
          "output_type": "stream",
          "text": [
            "Some weights of the model checkpoint at roberta-base were not used when initializing RobertaForSequenceClassification: ['lm_head.bias', 'lm_head.dense.weight', 'lm_head.dense.bias', 'lm_head.layer_norm.weight', 'lm_head.layer_norm.bias', 'lm_head.decoder.weight', 'roberta.pooler.dense.weight', 'roberta.pooler.dense.bias']\n",
            "- This IS expected if you are initializing RobertaForSequenceClassification from the checkpoint of a model trained on another task or with another architecture (e.g. initializing a BertForSequenceClassification model from a BertForPreTraining model).\n",
            "- This IS NOT expected if you are initializing RobertaForSequenceClassification from the checkpoint of a model that you expect to be exactly identical (initializing a BertForSequenceClassification model from a BertForSequenceClassification model).\n",
            "Some weights of RobertaForSequenceClassification were not initialized from the model checkpoint at roberta-base and are newly initialized: ['classifier.dense.weight', 'classifier.dense.bias', 'classifier.out_proj.weight', 'classifier.out_proj.bias']\n",
            "You should probably TRAIN this model on a down-stream task to be able to use it for predictions and inference.\n"
          ],
          "name": "stderr"
        },
        {
          "output_type": "stream",
          "text": [
            "The BERT model has 201 different named parameters.\n",
            "\n",
            "==== Embedding Layer ====\n",
            "\n",
            "roberta.embeddings.word_embeddings.weight               (50265, 768)\n",
            "roberta.embeddings.position_embeddings.weight             (514, 768)\n",
            "roberta.embeddings.token_type_embeddings.weight             (1, 768)\n",
            "roberta.embeddings.LayerNorm.weight                           (768,)\n",
            "roberta.embeddings.LayerNorm.bias                             (768,)\n",
            "\n",
            "==== First Transformer ====\n",
            "\n",
            "roberta.encoder.layer.0.attention.self.query.weight       (768, 768)\n",
            "roberta.encoder.layer.0.attention.self.query.bias             (768,)\n",
            "roberta.encoder.layer.0.attention.self.key.weight         (768, 768)\n",
            "roberta.encoder.layer.0.attention.self.key.bias               (768,)\n",
            "roberta.encoder.layer.0.attention.self.value.weight       (768, 768)\n",
            "roberta.encoder.layer.0.attention.self.value.bias             (768,)\n",
            "roberta.encoder.layer.0.attention.output.dense.weight     (768, 768)\n",
            "roberta.encoder.layer.0.attention.output.dense.bias           (768,)\n",
            "roberta.encoder.layer.0.attention.output.LayerNorm.weight       (768,)\n",
            "roberta.encoder.layer.0.attention.output.LayerNorm.bias       (768,)\n",
            "roberta.encoder.layer.0.intermediate.dense.weight        (3072, 768)\n",
            "roberta.encoder.layer.0.intermediate.dense.bias              (3072,)\n",
            "roberta.encoder.layer.0.output.dense.weight              (768, 3072)\n",
            "roberta.encoder.layer.0.output.dense.bias                     (768,)\n",
            "roberta.encoder.layer.0.output.LayerNorm.weight               (768,)\n",
            "roberta.encoder.layer.0.output.LayerNorm.bias                 (768,)\n",
            "\n",
            "==== Output Layer ====\n",
            "\n",
            "classifier.dense.weight                                   (768, 768)\n",
            "classifier.dense.bias                                         (768,)\n",
            "classifier.out_proj.weight                                  (2, 768)\n",
            "classifier.out_proj.bias                                        (2,)\n",
            "Loading:cuda\n"
          ],
          "name": "stdout"
        },
        {
          "output_type": "display_data",
          "data": {
            "application/vnd.jupyter.widget-view+json": {
              "model_id": "eca645d7fa794133a335a0262fa4094a",
              "version_minor": 0,
              "version_major": 2
            },
            "text/plain": [
              "HBox(children=(FloatProgress(value=0.0, max=1.0), HTML(value='')))"
            ]
          },
          "metadata": {
            "tags": []
          }
        },
        {
          "output_type": "display_data",
          "data": {
            "application/vnd.jupyter.widget-view+json": {
              "model_id": "db8e2a605b31468691c50bedc4c1b48c",
              "version_minor": 0,
              "version_major": 2
            },
            "text/plain": [
              "HBox(children=(FloatProgress(value=0.0, description='Epoch: 1', max=795.0, style=ProgressStyle(description_wid…"
            ]
          },
          "metadata": {
            "tags": []
          }
        },
        {
          "output_type": "stream",
          "text": [
            "\r\r\r\r\r\n",
            "Epoch {epoch}\n",
            "\r\r\r\r\rTraining Loss: 0.48204981476630804\n"
          ],
          "name": "stdout"
        },
        {
          "output_type": "display_data",
          "data": {
            "application/vnd.jupyter.widget-view+json": {
              "model_id": "8eafa3067b12423488a98f7c9670339f",
              "version_minor": 0,
              "version_major": 2
            },
            "text/plain": [
              "HBox(children=(FloatProgress(value=0.0, max=89.0), HTML(value='')))"
            ]
          },
          "metadata": {
            "tags": []
          }
        },
        {
          "output_type": "stream",
          "text": [
            "\n",
            "\r\r\r\r\rVal Loss:0.43300070454565326\n",
            " Test Score:0.7787692372697433\n",
            "\n"
          ],
          "name": "stdout"
        },
        {
          "output_type": "display_data",
          "data": {
            "application/vnd.jupyter.widget-view+json": {
              "model_id": "3585c8d77fa34e498834267dd5f54a54",
              "version_minor": 0,
              "version_major": 2
            },
            "text/plain": [
              "HBox(children=(FloatProgress(value=0.0, max=58.0), HTML(value='')))"
            ]
          },
          "metadata": {
            "tags": []
          }
        },
        {
          "output_type": "stream",
          "text": [
            "\n",
            "\r\r\r\rVal Loss:0.3714181547021044\n",
            " Test Score:0.8063609076677323\n"
          ],
          "name": "stdout"
        }
      ]
    }
  ]
}