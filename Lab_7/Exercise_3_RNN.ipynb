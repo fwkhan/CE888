{
  "nbformat": 4,
  "nbformat_minor": 0,
  "metadata": {
    "kernelspec": {
      "display_name": "Python 3",
      "language": "python",
      "name": "python3"
    },
    "language_info": {
      "codemirror_mode": {
        "name": "ipython",
        "version": 3
      },
      "file_extension": ".py",
      "mimetype": "text/x-python",
      "name": "python",
      "nbconvert_exporter": "python",
      "pygments_lexer": "ipython3",
      "version": "3.6.5"
    },
    "colab": {
      "name": "Copy of Exercise_3_RNN.ipynb",
      "provenance": [],
      "machine_shape": "hm",
      "include_colab_link": true
    },
    "accelerator": "GPU"
  },
  "cells": [
    {
      "cell_type": "markdown",
      "metadata": {
        "id": "view-in-github",
        "colab_type": "text"
      },
      "source": [
        "<a href=\"https://colab.research.google.com/github/fwkhan/CE888/blob/main/lab7/Exercise_3_RNN.ipynb\" target=\"_parent\"><img src=\"https://colab.research.google.com/assets/colab-badge.svg\" alt=\"Open In Colab\"/></a>"
      ]
    },
    {
      "cell_type": "code",
      "metadata": {
        "id": "2OEAdhW0qjg9",
        "colab": {
          "base_uri": "https://localhost:8080/",
          "height": 35
        },
        "outputId": "1662e0dd-ede4-46a0-c53c-de0b715701a0"
      },
      "source": [
        "import keras\n",
        "keras.__version__"
      ],
      "execution_count": null,
      "outputs": [
        {
          "output_type": "execute_result",
          "data": {
            "application/vnd.google.colaboratory.intrinsic+json": {
              "type": "string"
            },
            "text/plain": [
              "'2.4.3'"
            ]
          },
          "metadata": {
            "tags": []
          },
          "execution_count": 2
        }
      ]
    },
    {
      "cell_type": "code",
      "metadata": {
        "id": "TYsNtFxgqjhC",
        "colab": {
          "base_uri": "https://localhost:8080/"
        },
        "outputId": "be15ddc8-3d63-4b0c-a2cd-b17d391136bc"
      },
      "source": [
        "from keras.preprocessing.text import Tokenizer\n",
        "samples = ['The cat sat on the mat.', 'The dog ate my homework.']\n",
        "\n",
        "# We create a tokenizer, configured to only take into account the top-1000 most common words\n",
        "tokenizer = Tokenizer(num_words=1000)\n",
        "\n",
        "# This builds the word index\n",
        "tokenizer.fit_on_texts(samples)\n",
        "\n",
        "# This turns strings into lists of integer indices.\n",
        "sequences = tokenizer.texts_to_sequences(samples)\n",
        "\n",
        "# You could also directly get the one-hot binary representations.\n",
        "# Note that other vectorization modes than one-hot encoding are supported!\n",
        "one_hot_results = tokenizer.texts_to_matrix(samples, mode='binary')\n",
        "\n",
        "# This is how you can recover the word index that was computed\n",
        "word_index = tokenizer.word_index\n",
        "print('Found %s unique tokens.' % len(word_index))"
      ],
      "execution_count": null,
      "outputs": [
        {
          "output_type": "stream",
          "text": [
            "Found 9 unique tokens.\n"
          ],
          "name": "stdout"
        }
      ]
    },
    {
      "cell_type": "code",
      "metadata": {
        "id": "_1bFuvqKqjhF",
        "colab": {
          "base_uri": "https://localhost:8080/"
        },
        "outputId": "fe6b231a-62a1-4bec-ef74-ab08af281d68"
      },
      "source": [
        "one_hot_results"
      ],
      "execution_count": null,
      "outputs": [
        {
          "output_type": "execute_result",
          "data": {
            "text/plain": [
              "array([[0., 1., 1., ..., 0., 0., 0.],\n",
              "       [0., 1., 0., ..., 0., 0., 0.]])"
            ]
          },
          "metadata": {
            "tags": []
          },
          "execution_count": 4
        }
      ]
    },
    {
      "cell_type": "markdown",
      "metadata": {
        "id": "95o1mdJkqjhI"
      },
      "source": [
        "Using word-embeddings "
      ]
    },
    {
      "cell_type": "code",
      "metadata": {
        "id": "DSAIqfdoqjhJ",
        "colab": {
          "base_uri": "https://localhost:8080/"
        },
        "outputId": "a3b1e7de-39db-484b-a5e0-80e26627a2f8"
      },
      "source": [
        "from keras.datasets import imdb\n",
        "from keras.preprocessing import sequence\n",
        "\n",
        "max_features = 10000\n",
        "maxlen = 500\n",
        "batch_size = 32\n",
        "print('Loading data...')\n",
        "(input_train, y_train), (input_test, y_test) = imdb.load_data(num_words=max_features)\n",
        "print(len(input_train), 'train sequences')\n",
        "print(len(input_test), 'test sequences')\n",
        "print('Pad sequences (samples x time)')\n",
        "input_train = sequence.pad_sequences(input_train, maxlen=maxlen)\n",
        "input_test = sequence.pad_sequences(input_test, maxlen=maxlen)\n",
        "print('input_train shape:', input_train.shape)\n",
        "print('input_test shape:', input_test.shape)"
      ],
      "execution_count": null,
      "outputs": [
        {
          "output_type": "stream",
          "text": [
            "Loading data...\n",
            "Downloading data from https://storage.googleapis.com/tensorflow/tf-keras-datasets/imdb.npz\n",
            "17465344/17464789 [==============================] - 0s 0us/step\n"
          ],
          "name": "stdout"
        },
        {
          "output_type": "stream",
          "text": [
            "<string>:6: VisibleDeprecationWarning: Creating an ndarray from ragged nested sequences (which is a list-or-tuple of lists-or-tuples-or ndarrays with different lengths or shapes) is deprecated. If you meant to do this, you must specify 'dtype=object' when creating the ndarray\n",
            "/usr/local/lib/python3.7/dist-packages/tensorflow/python/keras/datasets/imdb.py:159: VisibleDeprecationWarning: Creating an ndarray from ragged nested sequences (which is a list-or-tuple of lists-or-tuples-or ndarrays with different lengths or shapes) is deprecated. If you meant to do this, you must specify 'dtype=object' when creating the ndarray\n",
            "  x_train, y_train = np.array(xs[:idx]), np.array(labels[:idx])\n",
            "/usr/local/lib/python3.7/dist-packages/tensorflow/python/keras/datasets/imdb.py:160: VisibleDeprecationWarning: Creating an ndarray from ragged nested sequences (which is a list-or-tuple of lists-or-tuples-or ndarrays with different lengths or shapes) is deprecated. If you meant to do this, you must specify 'dtype=object' when creating the ndarray\n",
            "  x_test, y_test = np.array(xs[idx:]), np.array(labels[idx:])\n"
          ],
          "name": "stderr"
        },
        {
          "output_type": "stream",
          "text": [
            "25000 train sequences\n",
            "25000 test sequences\n",
            "Pad sequences (samples x time)\n",
            "input_train shape: (25000, 500)\n",
            "input_test shape: (25000, 500)\n"
          ],
          "name": "stdout"
        }
      ]
    },
    {
      "cell_type": "markdown",
      "metadata": {
        "id": "5ssh97qDqjhM"
      },
      "source": [
        "### Training the model with Embedding and SimpleRNN layers"
      ]
    },
    {
      "cell_type": "code",
      "metadata": {
        "id": "t_lIlBilqjhN",
        "colab": {
          "base_uri": "https://localhost:8080/"
        },
        "outputId": "0db86000-527a-4a56-8bc2-0bd2dd3400c0"
      },
      "source": [
        "from keras.layers import Dense\n",
        "from keras.layers import Embedding, SimpleRNN\n",
        "from keras.models import Sequential\n",
        "\n",
        "model = Sequential()\n",
        "model.add(Embedding(max_features, 32))\n",
        "model.add(SimpleRNN(32))\n",
        "model.add(Dense(1, activation='sigmoid'))\n",
        "model.summary()\n",
        "model.compile(optimizer='rmsprop', loss='binary_crossentropy', metrics=['acc'])\n",
        "history = model.fit(input_train, y_train, \n",
        "                    epochs=10,\n",
        "                    batch_size=128,\n",
        "                    validation_split=0.2)\n"
      ],
      "execution_count": null,
      "outputs": [
        {
          "output_type": "stream",
          "text": [
            "Model: \"sequential\"\n",
            "_________________________________________________________________\n",
            "Layer (type)                 Output Shape              Param #   \n",
            "=================================================================\n",
            "embedding (Embedding)        (None, None, 32)          320000    \n",
            "_________________________________________________________________\n",
            "simple_rnn (SimpleRNN)       (None, 32)                2080      \n",
            "_________________________________________________________________\n",
            "dense (Dense)                (None, 1)                 33        \n",
            "=================================================================\n",
            "Total params: 322,113\n",
            "Trainable params: 322,113\n",
            "Non-trainable params: 0\n",
            "_________________________________________________________________\n",
            "Epoch 1/10\n",
            "157/157 [==============================] - 65s 396ms/step - loss: 0.6763 - acc: 0.5521 - val_loss: 0.5348 - val_acc: 0.7250\n",
            "Epoch 2/10\n",
            "157/157 [==============================] - 61s 391ms/step - loss: 0.4139 - acc: 0.8263 - val_loss: 0.3727 - val_acc: 0.8450\n",
            "Epoch 3/10\n",
            "157/157 [==============================] - 61s 391ms/step - loss: 0.2939 - acc: 0.8872 - val_loss: 0.3430 - val_acc: 0.8614\n",
            "Epoch 4/10\n",
            "157/157 [==============================] - 62s 394ms/step - loss: 0.2331 - acc: 0.9124 - val_loss: 0.3312 - val_acc: 0.8756\n",
            "Epoch 5/10\n",
            "157/157 [==============================] - 61s 392ms/step - loss: 0.1719 - acc: 0.9396 - val_loss: 0.5262 - val_acc: 0.7574\n",
            "Epoch 6/10\n",
            "157/157 [==============================] - 62s 394ms/step - loss: 0.1284 - acc: 0.9556 - val_loss: 0.5090 - val_acc: 0.7828\n",
            "Epoch 7/10\n",
            "157/157 [==============================] - 62s 396ms/step - loss: 0.0814 - acc: 0.9750 - val_loss: 0.4592 - val_acc: 0.8448\n",
            "Epoch 8/10\n",
            "157/157 [==============================] - 61s 390ms/step - loss: 0.0487 - acc: 0.9869 - val_loss: 0.4554 - val_acc: 0.8588\n",
            "Epoch 9/10\n",
            "157/157 [==============================] - 61s 390ms/step - loss: 0.0321 - acc: 0.9910 - val_loss: 0.5429 - val_acc: 0.8362\n",
            "Epoch 10/10\n",
            "157/157 [==============================] - 61s 387ms/step - loss: 0.0235 - acc: 0.9942 - val_loss: 0.6463 - val_acc: 0.7994\n"
          ],
          "name": "stdout"
        }
      ]
    },
    {
      "cell_type": "code",
      "metadata": {
        "id": "w03gEZ2RqjhQ",
        "colab": {
          "base_uri": "https://localhost:8080/",
          "height": 545
        },
        "outputId": "f9d5743a-1c07-47f6-aeea-4c8ac7d01a74"
      },
      "source": [
        "import matplotlib.pyplot as plt\n",
        "\n",
        "acc = history.history['acc']\n",
        "val_acc = history.history['val_acc']\n",
        "loss = history.history['loss']\n",
        "val_loss = history.history['val_loss']\n",
        "\n",
        "epochs = range(1, len(acc) + 1)\n",
        "\n",
        "plt.plot(epochs, acc, 'bo', label='Training acc')\n",
        "plt.plot(epochs, val_acc, 'b', label='Validation acc')\n",
        "plt.title('Training and validation accuracy')\n",
        "plt.legend()\n",
        "\n",
        "plt.figure()\n",
        "\n",
        "plt.plot(epochs, loss, 'bo', label='Training loss')\n",
        "plt.plot(epochs, val_loss, 'b', label='Validation loss')\n",
        "plt.title('Training and validation loss')\n",
        "plt.legend()\n",
        "\n",
        "plt.show()"
      ],
      "execution_count": null,
      "outputs": [
        {
          "output_type": "display_data",
          "data": {
            "image/png": "[encoded data removed]",
            "text/plain": [
              "<Figure size 432x288 with 1 Axes>"
            ]
          },
          "metadata": {
            "tags": [],
            "needs_background": "light"
          }
        },
        {
          "output_type": "display_data",
          "data": {
            "image/png": "[encoded data removed]",
            "text/plain": [
              "<Figure size 432x288 with 1 Axes>"
            ]
          },
          "metadata": {
            "tags": [],
            "needs_background": "light"
          }
        }
      ]
    },
    {
      "cell_type": "markdown",
      "metadata": {
        "id": "mz8CfgKcqjhT"
      },
      "source": [
        "### Training the model with Embedding and SimpleRNN layers"
      ]
    },
    {
      "cell_type": "code",
      "metadata": {
        "id": "U_wjH-KGqjhU",
        "colab": {
          "base_uri": "https://localhost:8080/"
        },
        "outputId": "337f8fe9-c05c-4d01-e83a-61afcc71ee25"
      },
      "source": [
        "from keras.layers import LSTM\n",
        "\n",
        "model = Sequential()\n",
        "model.add(Embedding(max_features, 32))\n",
        "model.add(LSTM(32))\n",
        "model.add(Dense(1, activation='sigmoid'))\n",
        "model.compile(optimizer='rmsprop',\n",
        "loss='binary_crossentropy',\n",
        "metrics=['acc'])\n",
        "history = model.fit(input_train, y_train,\n",
        "                    epochs=10,\n",
        "                    batch_size=128,\n",
        "                    validation_split=0.2)"
      ],
      "execution_count": null,
      "outputs": [
        {
          "output_type": "stream",
          "text": [
            "Epoch 1/10\n",
            "157/157 [==============================] - 21s 36ms/step - loss: 0.6307 - acc: 0.6441 - val_loss: 0.3611 - val_acc: 0.8542\n",
            "Epoch 2/10\n",
            "157/157 [==============================] - 5s 33ms/step - loss: 0.3297 - acc: 0.8740 - val_loss: 0.2826 - val_acc: 0.8872\n",
            "Epoch 3/10\n",
            "157/157 [==============================] - 5s 33ms/step - loss: 0.2374 - acc: 0.9110 - val_loss: 0.3931 - val_acc: 0.8660\n",
            "Epoch 4/10\n",
            "157/157 [==============================] - 5s 33ms/step - loss: 0.1974 - acc: 0.9271 - val_loss: 0.4842 - val_acc: 0.8138\n",
            "Epoch 5/10\n",
            "157/157 [==============================] - 5s 33ms/step - loss: 0.1745 - acc: 0.9359 - val_loss: 0.3933 - val_acc: 0.8342\n",
            "Epoch 6/10\n",
            "157/157 [==============================] - 5s 33ms/step - loss: 0.1530 - acc: 0.9463 - val_loss: 0.2968 - val_acc: 0.8886\n",
            "Epoch 7/10\n",
            "157/157 [==============================] - 5s 33ms/step - loss: 0.1427 - acc: 0.9484 - val_loss: 0.4459 - val_acc: 0.8608\n",
            "Epoch 8/10\n",
            "157/157 [==============================] - 5s 33ms/step - loss: 0.1273 - acc: 0.9565 - val_loss: 0.4328 - val_acc: 0.8516\n",
            "Epoch 9/10\n",
            "157/157 [==============================] - 5s 33ms/step - loss: 0.1211 - acc: 0.9567 - val_loss: 0.3403 - val_acc: 0.8784\n",
            "Epoch 10/10\n",
            "157/157 [==============================] - 5s 32ms/step - loss: 0.1038 - acc: 0.9658 - val_loss: 0.3326 - val_acc: 0.8818\n"
          ],
          "name": "stdout"
        }
      ]
    },
    {
      "cell_type": "code",
      "metadata": {
        "id": "HU4eGq-DqjhX",
        "colab": {
          "base_uri": "https://localhost:8080/",
          "height": 545
        },
        "outputId": "e7da928c-017b-4d5e-e2de-5614be6e57ac"
      },
      "source": [
        "import matplotlib.pyplot as plt\n",
        "\n",
        "acc = history.history['acc']\n",
        "val_acc = history.history['val_acc']\n",
        "loss = history.history['loss']\n",
        "val_loss = history.history['val_loss']\n",
        "\n",
        "epochs = range(1, len(acc) + 1)\n",
        "\n",
        "plt.plot(epochs, acc, 'bo', label='Training acc')\n",
        "plt.plot(epochs, val_acc, 'b', label='Validation acc')\n",
        "plt.title('Training and validation accuracy')\n",
        "plt.legend()\n",
        "\n",
        "plt.figure()\n",
        "\n",
        "plt.plot(epochs, loss, 'bo', label='Training loss')\n",
        "plt.plot(epochs, val_loss, 'b', label='Validation loss')\n",
        "plt.title('Training and validation loss')\n",
        "plt.legend()\n",
        "\n",
        "plt.show()"
      ],
      "execution_count": null,
      "outputs": [
        {
          "output_type": "display_data",
          "data": {
            "image/png": "[encoded data removed]",
            "text/plain": [
              "<Figure size 432x288 with 1 Axes>"
            ]
          },
          "metadata": {
            "tags": [],
            "needs_background": "light"
          }
        },
        {
          "output_type": "display_data",
          "data": {
            "image/png": "[encoded data removed]",
            "text/plain": [
              "<Figure size 432x288 with 1 Axes>"
            ]
          },
          "metadata": {
            "tags": [],
            "needs_background": "light"
          }
        }
      ]
    },
    {
      "cell_type": "markdown",
      "metadata": {
        "id": "r69U5tFUZ82R"
      },
      "source": [
        "### Task 3: \n",
        "\n",
        "Please consider this Time Series Prediction with LSTM Recurrent Neural Networks. We can see that the LSTM model in the code below has an average error of about 23 passengers (in thousands) on the training dataset, and about 53 passengers (in thousands) on the test dataset. Not that bad. Can you please improve the performance?\n",
        "\n",
        "#### Dataset Discription\n",
        "The problem we are going to look at in this post is the International Airline Passengers prediction problem.\n",
        "This is a problem where, given a year and a month, the task is to predict the number of international airline passengers in units of 1,000. The data ranges from January 1949 to December 1960, or 12 years, with 144 observations.\n",
        "\n"
      ]
    },
    {
      "cell_type": "code",
      "metadata": {
        "colab": {
          "base_uri": "https://localhost:8080/",
          "height": 1000
        },
        "id": "w1vSusoyatCW",
        "outputId": "a73b697f-da00-46f9-fe76-b74805267293"
      },
      "source": [
        "import numpy\n",
        "import math\n",
        "import matplotlib.pyplot as plt\n",
        "from pandas import read_csv\n",
        "from keras.models import Sequential\n",
        "from keras.layers import Dense\n",
        "from keras.layers import LSTM\n",
        "from sklearn.preprocessing import MinMaxScaler\n",
        "from sklearn.metrics import mean_squared_error\n",
        "# convert an array of values into a dataset matrix\n",
        "def create_dataset(dataset, look_back=1):\n",
        "\tdataX, dataY = [], []\n",
        "\tfor i in range(len(dataset)-look_back-1):\n",
        "\t\ta = dataset[i:(i+look_back), 0]\n",
        "\t\tdataX.append(a)\n",
        "\t\tdataY.append(dataset[i + look_back, 0])\n",
        "\treturn numpy.array(dataX), numpy.array(dataY)\n",
        "# fix random seed for reproducibility\n",
        "numpy.random.seed(7)\n",
        "# load the dataset\n",
        "dataframe = read_csv('https://raw.githubusercontent.com/jbrownlee/Datasets/master/airline-passengers.csv', usecols=[1], engine='python')\n",
        "dataset = dataframe.values\n",
        "dataset = dataset.astype('float32')\n",
        "# normalize the dataset\n",
        "scaler = MinMaxScaler(feature_range=(0, 1))\n",
        "dataset = scaler.fit_transform(dataset)\n",
        "# split into train and test sets\n",
        "train_size = int(len(dataset) * 0.60)\n",
        "test_size = len(dataset) - train_size\n",
        "train, test = dataset[0:train_size,:], dataset[train_size:len(dataset),:]\n",
        "# reshape into X=t and Y=t+1\n",
        "look_back = 1\n",
        "trainX, trainY = create_dataset(train, look_back)\n",
        "testX, testY = create_dataset(test, look_back)\n",
        "# reshape input to be [samples, time steps, features]\n",
        "trainX = numpy.reshape(trainX, (trainX.shape[0], 1, trainX.shape[1]))\n",
        "testX = numpy.reshape(testX, (testX.shape[0], 1, testX.shape[1]))\n",
        "# create and fit the LSTM network\n",
        "model = Sequential()\n",
        "model.add(LSTM(10, input_shape=(1, look_back)))\n",
        "model.add(Dense(1))\n",
        "model.compile(loss='mean_squared_error', optimizer='adam')\n",
        "batch_size = 1\n",
        "#for i in range(200):\n",
        "model.fit(trainX, trainY, epochs=50, batch_size=batch_size, verbose=2)\n",
        " # model.reset_states()\n",
        "# make predictions\n",
        "trainPredict = model.predict(trainX)\n",
        "testPredict = model.predict(testX)\n",
        "# invert predictions\n",
        "trainPredict = scaler.inverse_transform(trainPredict)\n",
        "trainY = scaler.inverse_transform([trainY])\n",
        "testPredict = scaler.inverse_transform(testPredict)\n",
        "testY = scaler.inverse_transform([testY])\n",
        "# calculate root mean squared error\n",
        "trainScore = math.sqrt(mean_squared_error(trainY[0], trainPredict[:,0]))\n",
        "print('Train Score: %.2f RMSE' % (trainScore))\n",
        "testScore = math.sqrt(mean_squared_error(testY[0], testPredict[:,0]))\n",
        "print('Test Score: %.2f RMSE' % (testScore))\n",
        "# shift train predictions for plotting\n",
        "trainPredictPlot = numpy.empty_like(dataset)\n",
        "trainPredictPlot[:, :] = numpy.nan\n",
        "trainPredictPlot[look_back:len(trainPredict)+look_back, :] = trainPredict\n",
        "# shift test predictions for plotting\n",
        "testPredictPlot = numpy.empty_like(dataset)\n",
        "testPredictPlot[:, :] = numpy.nan\n",
        "testPredictPlot[len(trainPredict)+(look_back*2)+1:len(dataset)-1, :] = testPredict\n",
        "# plot baseline and predictions\n",
        "plt.plot(scaler.inverse_transform(dataset))\n",
        "plt.plot(trainPredictPlot)\n",
        "plt.plot(testPredictPlot)\n",
        "plt.show()"
      ],
      "execution_count": null,
      "outputs": [
        {
          "output_type": "stream",
          "text": [
            "Epoch 1/50\n",
            "84/84 - 1s - loss: 0.0329\n",
            "Epoch 2/50\n",
            "84/84 - 0s - loss: 0.0144\n",
            "Epoch 3/50\n",
            "84/84 - 0s - loss: 0.0118\n",
            "Epoch 4/50\n",
            "84/84 - 0s - loss: 0.0110\n",
            "Epoch 5/50\n",
            "84/84 - 0s - loss: 0.0102\n",
            "Epoch 6/50\n",
            "84/84 - 0s - loss: 0.0092\n",
            "Epoch 7/50\n",
            "84/84 - 0s - loss: 0.0083\n",
            "Epoch 8/50\n",
            "84/84 - 0s - loss: 0.0072\n",
            "Epoch 9/50\n",
            "84/84 - 0s - loss: 0.0061\n",
            "Epoch 10/50\n",
            "84/84 - 0s - loss: 0.0051\n",
            "Epoch 11/50\n",
            "84/84 - 0s - loss: 0.0041\n",
            "Epoch 12/50\n",
            "84/84 - 0s - loss: 0.0033\n",
            "Epoch 13/50\n",
            "84/84 - 0s - loss: 0.0028\n",
            "Epoch 14/50\n",
            "84/84 - 0s - loss: 0.0023\n",
            "Epoch 15/50\n",
            "84/84 - 0s - loss: 0.0020\n",
            "Epoch 16/50\n",
            "84/84 - 0s - loss: 0.0018\n",
            "Epoch 17/50\n",
            "84/84 - 0s - loss: 0.0018\n",
            "Epoch 18/50\n",
            "84/84 - 0s - loss: 0.0018\n",
            "Epoch 19/50\n",
            "84/84 - 0s - loss: 0.0017\n",
            "Epoch 20/50\n",
            "84/84 - 0s - loss: 0.0017\n",
            "Epoch 21/50\n",
            "84/84 - 0s - loss: 0.0017\n",
            "Epoch 22/50\n",
            "84/84 - 0s - loss: 0.0018\n",
            "Epoch 23/50\n",
            "84/84 - 0s - loss: 0.0017\n",
            "Epoch 24/50\n",
            "84/84 - 0s - loss: 0.0017\n",
            "Epoch 25/50\n",
            "84/84 - 0s - loss: 0.0017\n",
            "Epoch 26/50\n",
            "84/84 - 0s - loss: 0.0017\n",
            "Epoch 27/50\n",
            "84/84 - 0s - loss: 0.0017\n",
            "Epoch 28/50\n",
            "84/84 - 0s - loss: 0.0017\n",
            "Epoch 29/50\n",
            "84/84 - 0s - loss: 0.0017\n",
            "Epoch 30/50\n",
            "84/84 - 0s - loss: 0.0017\n",
            "Epoch 31/50\n",
            "84/84 - 0s - loss: 0.0017\n",
            "Epoch 32/50\n",
            "84/84 - 0s - loss: 0.0018\n",
            "Epoch 33/50\n",
            "84/84 - 0s - loss: 0.0017\n",
            "Epoch 34/50\n",
            "84/84 - 0s - loss: 0.0017\n",
            "Epoch 35/50\n",
            "84/84 - 0s - loss: 0.0018\n",
            "Epoch 36/50\n",
            "84/84 - 0s - loss: 0.0017\n",
            "Epoch 37/50\n",
            "84/84 - 0s - loss: 0.0017\n",
            "Epoch 38/50\n",
            "84/84 - 0s - loss: 0.0018\n",
            "Epoch 39/50\n",
            "84/84 - 0s - loss: 0.0017\n",
            "Epoch 40/50\n",
            "84/84 - 0s - loss: 0.0017\n",
            "Epoch 41/50\n",
            "84/84 - 0s - loss: 0.0018\n",
            "Epoch 42/50\n",
            "84/84 - 0s - loss: 0.0018\n",
            "Epoch 43/50\n",
            "84/84 - 0s - loss: 0.0017\n",
            "Epoch 44/50\n",
            "84/84 - 0s - loss: 0.0018\n",
            "Epoch 45/50\n",
            "84/84 - 0s - loss: 0.0018\n",
            "Epoch 46/50\n",
            "84/84 - 0s - loss: 0.0017\n",
            "Epoch 47/50\n",
            "84/84 - 0s - loss: 0.0017\n",
            "Epoch 48/50\n",
            "84/84 - 0s - loss: 0.0017\n",
            "Epoch 49/50\n",
            "84/84 - 0s - loss: 0.0017\n",
            "Epoch 50/50\n",
            "84/84 - 0s - loss: 0.0017\n",
            "Train Score: 21.23 RMSE\n",
            "Test Score: 47.10 RMSE\n"
          ],
          "name": "stdout"
        },
        {
          "output_type": "display_data",
          "data": {
            "image/png": "[encoded data removed]",
            "text/plain": [
              "<Figure size 432x288 with 1 Axes>"
            ]
          },
          "metadata": {
            "tags": [],
            "needs_background": "light"
          }
        }
      ]
    },
    {
      "cell_type": "code",
      "metadata": {
        "id": "XpHefWNABhY3"
      },
      "source": [
        ""
      ],
      "execution_count": null,
      "outputs": []
    }
  ]
}
